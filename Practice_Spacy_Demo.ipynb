{
  "nbformat": 4,
  "nbformat_minor": 0,
  "metadata": {
    "colab": {
      "provenance": []
    },
    "kernelspec": {
      "name": "python3",
      "display_name": "Python 3"
    },
    "language_info": {
      "name": "python"
    }
  },
  "cells": [
    {
      "cell_type": "code",
      "execution_count": 101,
      "metadata": {
        "id": "jSy3oUbtuaeW"
      },
      "outputs": [],
      "source": [
        "import spacy\n",
        "from nltk.corpus import wordnet as wn\n",
        "from spacy.tokens import Token\n",
        "from scipy import spatial\n",
        "import nltk\n",
        "from spacy import displacy\n",
        "from nltk.chunk import conlltags2tree"
      ]
    },
    {
      "cell_type": "code",
      "source": [
        "nltk.download('wordnet')"
      ],
      "metadata": {
        "colab": {
          "base_uri": "https://localhost:8080/"
        },
        "id": "r1_FYIb3udi2",
        "outputId": "128d5167-fe84-4d76-b147-50d051ebdaf9"
      },
      "execution_count": 102,
      "outputs": [
        {
          "output_type": "stream",
          "name": "stderr",
          "text": [
            "[nltk_data] Downloading package wordnet to /root/nltk_data...\n",
            "[nltk_data]   Package wordnet is already up-to-date!\n"
          ]
        },
        {
          "output_type": "execute_result",
          "data": {
            "text/plain": [
              "True"
            ]
          },
          "metadata": {},
          "execution_count": 102
        }
      ]
    },
    {
      "cell_type": "code",
      "source": [
        "# 1 Example\n",
        "nlp = spacy.load('en_core_web_sm')\n",
        "doc = nlp('Hello     testing Whizlabs demo!')\n",
        "for token in doc:\n",
        "    print('\"' + token.text + '\"')"
      ],
      "metadata": {
        "colab": {
          "base_uri": "https://localhost:8080/"
        },
        "id": "HxDw4TVPufwn",
        "outputId": "e36464d0-cc45-4a74-f261-bc88f360d3b6"
      },
      "execution_count": 103,
      "outputs": [
        {
          "output_type": "stream",
          "name": "stdout",
          "text": [
            "\"Hello\"\n",
            "\"    \"\n",
            "\"testing\"\n",
            "\"Whizlabs\"\n",
            "\"demo\"\n",
            "\"!\"\n"
          ]
        }
      ]
    },
    {
      "cell_type": "code",
      "source": [
        "# 2 Index\n",
        "for token in doc:\n",
        "    print('\"' + token.text + '\"', token.idx)"
      ],
      "metadata": {
        "colab": {
          "base_uri": "https://localhost:8080/"
        },
        "id": "GaAFO4BsuhtP",
        "outputId": "dd961203-28ec-4ce2-cb34-bdeefd6be3ae"
      },
      "execution_count": 104,
      "outputs": [
        {
          "output_type": "stream",
          "name": "stdout",
          "text": [
            "\"Hello\" 0\n",
            "\"    \" 6\n",
            "\"testing\" 10\n",
            "\"Whizlabs\" 18\n",
            "\"demo\" 27\n",
            "\"!\" 31\n"
          ]
        }
      ]
    },
    {
      "cell_type": "code",
      "source": [
        "# 3 Word-level attributes\n",
        "for token in doc:\n",
        "    print(\"{0}\\t{1}\\t{2}\\t{3}\\t{4}\\t{5}\\t{6}\\t{7}\".format(\n",
        "        token.text,\n",
        "        token.idx,\n",
        "        token.lemma_,\n",
        "        token.is_punct,\n",
        "        token.is_space,\n",
        "        token.shape_,\n",
        "        token.pos_,\n",
        "        token.tag_\n",
        "    ))"
      ],
      "metadata": {
        "colab": {
          "base_uri": "https://localhost:8080/"
        },
        "id": "upqKSazouj3T",
        "outputId": "fd067c8a-ab4f-475e-bc0e-1e2be079e396"
      },
      "execution_count": 105,
      "outputs": [
        {
          "output_type": "stream",
          "name": "stdout",
          "text": [
            "Hello\t0\thello\tFalse\tFalse\tXxxxx\tINTJ\tUH\n",
            "    \t6\t    \tFalse\tTrue\t    \tSPACE\t_SP\n",
            "testing\t10\ttest\tFalse\tFalse\txxxx\tVERB\tVBG\n",
            "Whizlabs\t18\tWhizlabs\tFalse\tFalse\tXxxxx\tPROPN\tNNP\n",
            "demo\t27\tdemo\tFalse\tFalse\txxxx\tNOUN\tNN\n",
            "!\t31\t!\tTrue\tFalse\t!\tPUNCT\t.\n"
          ]
        }
      ]
    },
    {
      "cell_type": "code",
      "source": [
        "nlp = spacy.load('en_core_web_sm')"
      ],
      "metadata": {
        "id": "PmYA1lMEjoqQ"
      },
      "execution_count": 106,
      "outputs": []
    },
    {
      "cell_type": "code",
      "source": [
        "# 4 Sentence detection\n",
        "doc = nlp(\"These are apples. These are oranges.\")\n",
        "for sent in doc.sents:\n",
        "    print(sent)"
      ],
      "metadata": {
        "colab": {
          "base_uri": "https://localhost:8080/"
        },
        "id": "vrWgwnqSulze",
        "outputId": "a706bdd4-68a1-4740-9645-fcd15a419d33"
      },
      "execution_count": 107,
      "outputs": [
        {
          "output_type": "stream",
          "name": "stdout",
          "text": [
            "These are apples.\n",
            "These are oranges.\n"
          ]
        }
      ]
    },
    {
      "cell_type": "code",
      "source": [
        "# 5 Named Entity Recognition\n",
        "doc = nlp(\"I'm learning how spaCy works in Python.\")\n",
        "for ent in doc.ents:\n",
        "    print(ent.text, ent.label_)"
      ],
      "metadata": {
        "colab": {
          "base_uri": "https://localhost:8080/"
        },
        "id": "2FRNBzYeunaf",
        "outputId": "3e88d45b-a80c-4471-8246-cf9588bd3b6f"
      },
      "execution_count": 108,
      "outputs": [
        {
          "output_type": "stream",
          "name": "stdout",
          "text": [
            "Python GPE\n"
          ]
        }
      ]
    },
    {
      "cell_type": "markdown",
      "source": [
        "![image.png](data:image/png;base64,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)"
      ],
      "metadata": {
        "id": "V2iZ6OSDVseZ"
      }
    },
    {
      "cell_type": "code",
      "source": [
        "# 5.1\n",
        "doc = nlp(\"I'm learning how spaCy works in Python using an Apple mac at 6 p.m.\")\n",
        "for ent in doc.ents:\n",
        "    print(ent.text, ent.label_)"
      ],
      "metadata": {
        "colab": {
          "base_uri": "https://localhost:8080/"
        },
        "id": "CqOxKgwzupLy",
        "outputId": "215a697e-a83c-4281-968a-1c6d5cf9ea79"
      },
      "execution_count": 109,
      "outputs": [
        {
          "output_type": "stream",
          "name": "stdout",
          "text": [
            "Apple ORG\n",
            "6 p.m. TIME\n"
          ]
        }
      ]
    },
    {
      "cell_type": "code",
      "source": [
        "# 5.2\n",
        "from spacy import displacy\n",
        "\n",
        "doc = nlp(\"Uohna learning how spaCy works in Python using an Apple mac at 6 p.m.\")\n",
        "displacy.render(doc, style='ent', jupyter=True)"
      ],
      "metadata": {
        "colab": {
          "base_uri": "https://localhost:8080/",
          "height": 52
        },
        "id": "HyKsgQrDurlF",
        "outputId": "457a852c-5b71-4e40-f373-a224d29f3576"
      },
      "execution_count": 110,
      "outputs": [
        {
          "output_type": "display_data",
          "data": {
            "text/plain": [
              "<IPython.core.display.HTML object>"
            ],
            "text/html": [
              "<span class=\"tex2jax_ignore\"><div class=\"entities\" style=\"line-height: 2.5; direction: ltr\">Uohna learning how spaCy works in Python using an \n",
              "<mark class=\"entity\" style=\"background: #7aecec; padding: 0.45em 0.6em; margin: 0 0.25em; line-height: 1; border-radius: 0.35em;\">\n",
              "    Apple\n",
              "    <span style=\"font-size: 0.8em; font-weight: bold; line-height: 1; border-radius: 0.35em; vertical-align: middle; margin-left: 0.5rem\">ORG</span>\n",
              "</mark>\n",
              " mac at \n",
              "<mark class=\"entity\" style=\"background: #bfe1d9; padding: 0.45em 0.6em; margin: 0 0.25em; line-height: 1; border-radius: 0.35em;\">\n",
              "    6 p.m.\n",
              "    <span style=\"font-size: 0.8em; font-weight: bold; line-height: 1; border-radius: 0.35em; vertical-align: middle; margin-left: 0.5rem\">TIME</span>\n",
              "</mark>\n",
              "</div></span>"
            ]
          },
          "metadata": {}
        }
      ]
    },
    {
      "cell_type": "code",
      "source": [
        "# 6 Part Of Speech Tagging\n",
        "doc = nlp(\"I'm learning how spaCy works in Python.\")\n",
        "print([(token.text, token.tag_) for token in doc])"
      ],
      "metadata": {
        "colab": {
          "base_uri": "https://localhost:8080/"
        },
        "id": "-NGkQHBtus9N",
        "outputId": "3b64b466-17aa-40de-dde9-c9a34d7bec1d"
      },
      "execution_count": 111,
      "outputs": [
        {
          "output_type": "stream",
          "name": "stdout",
          "text": [
            "[('I', 'PRP'), (\"'m\", 'VBP'), ('learning', 'VBG'), ('how', 'WRB'), ('spaCy', 'NN'), ('works', 'VBZ'), ('in', 'IN'), ('Python', 'NNP'), ('.', '.')]\n"
          ]
        }
      ]
    },
    {
      "cell_type": "code",
      "source": [
        "# 6.1\n",
        "doc = nlp(\"I'm learning how spaCy works in Python.\")\n",
        "iob_tagged = [\n",
        "    (\n",
        "        token.text,\n",
        "        token.tag_,\n",
        "        \"{0}-{1}\".format(token.ent_iob_, token.ent_type_) if token.ent_iob_ != 'O' else token.ent_iob_\n",
        "    ) for token in doc\n",
        "]\n",
        "\n",
        "print(iob_tagged)\n",
        "print(conlltags2tree(iob_tagged))"
      ],
      "metadata": {
        "colab": {
          "base_uri": "https://localhost:8080/"
        },
        "id": "qJKeyQosuuzK",
        "outputId": "69c6d546-f8e1-4c08-d908-a271a29bb62d"
      },
      "execution_count": 112,
      "outputs": [
        {
          "output_type": "stream",
          "name": "stdout",
          "text": [
            "[('I', 'PRP', 'O'), (\"'m\", 'VBP', 'O'), ('learning', 'VBG', 'O'), ('how', 'WRB', 'O'), ('spaCy', 'NN', 'O'), ('works', 'VBZ', 'O'), ('in', 'IN', 'O'), ('Python', 'NNP', 'B-GPE'), ('.', '.', 'O')]\n",
            "(S\n",
            "  I/PRP\n",
            "  'm/VBP\n",
            "  learning/VBG\n",
            "  how/WRB\n",
            "  spaCy/NN\n",
            "  works/VBZ\n",
            "  in/IN\n",
            "  (GPE Python/NNP)\n",
            "  ./.)\n"
          ]
        }
      ]
    },
    {
      "cell_type": "code",
      "source": [
        "# 7 Chunking\n",
        "\n",
        "doc = nlp(\"I'm learning how spaCy works in Python from a course from Whizlabs\")\n",
        "for chunk in doc.noun_chunks:\n",
        "    print(chunk.text, chunk.label_, chunk.root.text)"
      ],
      "metadata": {
        "colab": {
          "base_uri": "https://localhost:8080/"
        },
        "id": "cF_xACVJuwxS",
        "outputId": "023ea6ec-3a57-4256-fc3c-33b947af7120"
      },
      "execution_count": 113,
      "outputs": [
        {
          "output_type": "stream",
          "name": "stdout",
          "text": [
            "I NP I\n",
            "spaCy NP spaCy\n",
            "Python NP Python\n",
            "a course NP course\n",
            "Whizlabs NP Whizlabs\n"
          ]
        }
      ]
    },
    {
      "cell_type": "code",
      "source": [
        "# 8 Dependency Parsing\n",
        "doc = nlp(\"I'm learning how spaCy works in Python from a course from Whizlabs\")\n",
        "for token in doc:\n",
        "    print(\"{0}/{1} <--{2}-- {3}/{4}\".format(\n",
        "        token.text, token.tag_, token.dep_, token.head.text, token.head.tag_))"
      ],
      "metadata": {
        "colab": {
          "base_uri": "https://localhost:8080/"
        },
        "id": "0s06CqbduymC",
        "outputId": "df4cd120-9049-4482-830d-b245b766d664"
      },
      "execution_count": 114,
      "outputs": [
        {
          "output_type": "stream",
          "name": "stdout",
          "text": [
            "I/PRP <--nsubj-- learning/VBG\n",
            "'m/VBP <--aux-- learning/VBG\n",
            "learning/VBG <--ROOT-- learning/VBG\n",
            "how/WRB <--advmod-- works/VBZ\n",
            "spaCy/NN <--nsubj-- works/VBZ\n",
            "works/VBZ <--ccomp-- learning/VBG\n",
            "in/IN <--prep-- works/VBZ\n",
            "Python/NNP <--pobj-- in/IN\n",
            "from/IN <--prep-- works/VBZ\n",
            "a/DT <--det-- course/NN\n",
            "course/NN <--pobj-- from/IN\n",
            "from/IN <--prep-- course/NN\n",
            "Whizlabs/NNPS <--pobj-- from/IN\n"
          ]
        }
      ]
    },
    {
      "cell_type": "code",
      "source": [
        "# 8.1\n",
        "doc = nlp(\"I'm learning how spaCy works in Python from a course from Whizlabs\")\n",
        "displacy.render(doc, style='dep', jupyter=True, options={'distance': 90})"
      ],
      "metadata": {
        "colab": {
          "base_uri": "https://localhost:8080/",
          "height": 293
        },
        "id": "twnXjLMwu0Ti",
        "outputId": "b06df1cb-840f-4305-d5ef-5eed28182091"
      },
      "execution_count": 115,
      "outputs": [
        {
          "output_type": "display_data",
          "data": {
            "text/plain": [
              "<IPython.core.display.HTML object>"
            ],
            "text/html": [
              "<span class=\"tex2jax_ignore\"><svg xmlns=\"http://www.w3.org/2000/svg\" xmlns:xlink=\"http://www.w3.org/1999/xlink\" xml:lang=\"en\" id=\"089ca14304b14438a1aeab9f17c4990e-0\" class=\"displacy\" width=\"1220\" height=\"272.0\" direction=\"ltr\" style=\"max-width: none; height: 272.0px; color: #000000; background: #ffffff; font-family: Arial; direction: ltr\">\n",
              "<text class=\"displacy-token\" fill=\"currentColor\" text-anchor=\"middle\" y=\"182.0\">\n",
              "    <tspan class=\"displacy-word\" fill=\"currentColor\" x=\"50\">I</tspan>\n",
              "    <tspan class=\"displacy-tag\" dy=\"2em\" fill=\"currentColor\" x=\"50\">PRON</tspan>\n",
              "</text>\n",
              "\n",
              "<text class=\"displacy-token\" fill=\"currentColor\" text-anchor=\"middle\" y=\"182.0\">\n",
              "    <tspan class=\"displacy-word\" fill=\"currentColor\" x=\"140\">'m</tspan>\n",
              "    <tspan class=\"displacy-tag\" dy=\"2em\" fill=\"currentColor\" x=\"140\">AUX</tspan>\n",
              "</text>\n",
              "\n",
              "<text class=\"displacy-token\" fill=\"currentColor\" text-anchor=\"middle\" y=\"182.0\">\n",
              "    <tspan class=\"displacy-word\" fill=\"currentColor\" x=\"230\">learning</tspan>\n",
              "    <tspan class=\"displacy-tag\" dy=\"2em\" fill=\"currentColor\" x=\"230\">VERB</tspan>\n",
              "</text>\n",
              "\n",
              "<text class=\"displacy-token\" fill=\"currentColor\" text-anchor=\"middle\" y=\"182.0\">\n",
              "    <tspan class=\"displacy-word\" fill=\"currentColor\" x=\"320\">how</tspan>\n",
              "    <tspan class=\"displacy-tag\" dy=\"2em\" fill=\"currentColor\" x=\"320\">SCONJ</tspan>\n",
              "</text>\n",
              "\n",
              "<text class=\"displacy-token\" fill=\"currentColor\" text-anchor=\"middle\" y=\"182.0\">\n",
              "    <tspan class=\"displacy-word\" fill=\"currentColor\" x=\"410\">spaCy</tspan>\n",
              "    <tspan class=\"displacy-tag\" dy=\"2em\" fill=\"currentColor\" x=\"410\">NOUN</tspan>\n",
              "</text>\n",
              "\n",
              "<text class=\"displacy-token\" fill=\"currentColor\" text-anchor=\"middle\" y=\"182.0\">\n",
              "    <tspan class=\"displacy-word\" fill=\"currentColor\" x=\"500\">works</tspan>\n",
              "    <tspan class=\"displacy-tag\" dy=\"2em\" fill=\"currentColor\" x=\"500\">VERB</tspan>\n",
              "</text>\n",
              "\n",
              "<text class=\"displacy-token\" fill=\"currentColor\" text-anchor=\"middle\" y=\"182.0\">\n",
              "    <tspan class=\"displacy-word\" fill=\"currentColor\" x=\"590\">in</tspan>\n",
              "    <tspan class=\"displacy-tag\" dy=\"2em\" fill=\"currentColor\" x=\"590\">ADP</tspan>\n",
              "</text>\n",
              "\n",
              "<text class=\"displacy-token\" fill=\"currentColor\" text-anchor=\"middle\" y=\"182.0\">\n",
              "    <tspan class=\"displacy-word\" fill=\"currentColor\" x=\"680\">Python</tspan>\n",
              "    <tspan class=\"displacy-tag\" dy=\"2em\" fill=\"currentColor\" x=\"680\">PROPN</tspan>\n",
              "</text>\n",
              "\n",
              "<text class=\"displacy-token\" fill=\"currentColor\" text-anchor=\"middle\" y=\"182.0\">\n",
              "    <tspan class=\"displacy-word\" fill=\"currentColor\" x=\"770\">from</tspan>\n",
              "    <tspan class=\"displacy-tag\" dy=\"2em\" fill=\"currentColor\" x=\"770\">ADP</tspan>\n",
              "</text>\n",
              "\n",
              "<text class=\"displacy-token\" fill=\"currentColor\" text-anchor=\"middle\" y=\"182.0\">\n",
              "    <tspan class=\"displacy-word\" fill=\"currentColor\" x=\"860\">a</tspan>\n",
              "    <tspan class=\"displacy-tag\" dy=\"2em\" fill=\"currentColor\" x=\"860\">DET</tspan>\n",
              "</text>\n",
              "\n",
              "<text class=\"displacy-token\" fill=\"currentColor\" text-anchor=\"middle\" y=\"182.0\">\n",
              "    <tspan class=\"displacy-word\" fill=\"currentColor\" x=\"950\">course</tspan>\n",
              "    <tspan class=\"displacy-tag\" dy=\"2em\" fill=\"currentColor\" x=\"950\">NOUN</tspan>\n",
              "</text>\n",
              "\n",
              "<text class=\"displacy-token\" fill=\"currentColor\" text-anchor=\"middle\" y=\"182.0\">\n",
              "    <tspan class=\"displacy-word\" fill=\"currentColor\" x=\"1040\">from</tspan>\n",
              "    <tspan class=\"displacy-tag\" dy=\"2em\" fill=\"currentColor\" x=\"1040\">ADP</tspan>\n",
              "</text>\n",
              "\n",
              "<text class=\"displacy-token\" fill=\"currentColor\" text-anchor=\"middle\" y=\"182.0\">\n",
              "    <tspan class=\"displacy-word\" fill=\"currentColor\" x=\"1130\">Whizlabs</tspan>\n",
              "    <tspan class=\"displacy-tag\" dy=\"2em\" fill=\"currentColor\" x=\"1130\">PROPN</tspan>\n",
              "</text>\n",
              "\n",
              "<g class=\"displacy-arrow\">\n",
              "    <path class=\"displacy-arc\" id=\"arrow-089ca14304b14438a1aeab9f17c4990e-0-0\" stroke-width=\"2px\" d=\"M70,137.0 C70,47.0 225.0,47.0 225.0,137.0\" fill=\"none\" stroke=\"currentColor\"/>\n",
              "    <text dy=\"1.25em\" style=\"font-size: 0.8em; letter-spacing: 1px\">\n",
              "        <textPath xlink:href=\"#arrow-089ca14304b14438a1aeab9f17c4990e-0-0\" class=\"displacy-label\" startOffset=\"50%\" side=\"left\" fill=\"currentColor\" text-anchor=\"middle\">nsubj</textPath>\n",
              "    </text>\n",
              "    <path class=\"displacy-arrowhead\" d=\"M70,139.0 L62,127.0 78,127.0\" fill=\"currentColor\"/>\n",
              "</g>\n",
              "\n",
              "<g class=\"displacy-arrow\">\n",
              "    <path class=\"displacy-arc\" id=\"arrow-089ca14304b14438a1aeab9f17c4990e-0-1\" stroke-width=\"2px\" d=\"M160,137.0 C160,92.0 220.0,92.0 220.0,137.0\" fill=\"none\" stroke=\"currentColor\"/>\n",
              "    <text dy=\"1.25em\" style=\"font-size: 0.8em; letter-spacing: 1px\">\n",
              "        <textPath xlink:href=\"#arrow-089ca14304b14438a1aeab9f17c4990e-0-1\" class=\"displacy-label\" startOffset=\"50%\" side=\"left\" fill=\"currentColor\" text-anchor=\"middle\">aux</textPath>\n",
              "    </text>\n",
              "    <path class=\"displacy-arrowhead\" d=\"M160,139.0 L152,127.0 168,127.0\" fill=\"currentColor\"/>\n",
              "</g>\n",
              "\n",
              "<g class=\"displacy-arrow\">\n",
              "    <path class=\"displacy-arc\" id=\"arrow-089ca14304b14438a1aeab9f17c4990e-0-2\" stroke-width=\"2px\" d=\"M340,137.0 C340,47.0 495.0,47.0 495.0,137.0\" fill=\"none\" stroke=\"currentColor\"/>\n",
              "    <text dy=\"1.25em\" style=\"font-size: 0.8em; letter-spacing: 1px\">\n",
              "        <textPath xlink:href=\"#arrow-089ca14304b14438a1aeab9f17c4990e-0-2\" class=\"displacy-label\" startOffset=\"50%\" side=\"left\" fill=\"currentColor\" text-anchor=\"middle\">advmod</textPath>\n",
              "    </text>\n",
              "    <path class=\"displacy-arrowhead\" d=\"M340,139.0 L332,127.0 348,127.0\" fill=\"currentColor\"/>\n",
              "</g>\n",
              "\n",
              "<g class=\"displacy-arrow\">\n",
              "    <path class=\"displacy-arc\" id=\"arrow-089ca14304b14438a1aeab9f17c4990e-0-3\" stroke-width=\"2px\" d=\"M430,137.0 C430,92.0 490.0,92.0 490.0,137.0\" fill=\"none\" stroke=\"currentColor\"/>\n",
              "    <text dy=\"1.25em\" style=\"font-size: 0.8em; letter-spacing: 1px\">\n",
              "        <textPath xlink:href=\"#arrow-089ca14304b14438a1aeab9f17c4990e-0-3\" class=\"displacy-label\" startOffset=\"50%\" side=\"left\" fill=\"currentColor\" text-anchor=\"middle\">nsubj</textPath>\n",
              "    </text>\n",
              "    <path class=\"displacy-arrowhead\" d=\"M430,139.0 L422,127.0 438,127.0\" fill=\"currentColor\"/>\n",
              "</g>\n",
              "\n",
              "<g class=\"displacy-arrow\">\n",
              "    <path class=\"displacy-arc\" id=\"arrow-089ca14304b14438a1aeab9f17c4990e-0-4\" stroke-width=\"2px\" d=\"M250,137.0 C250,2.0 500.0,2.0 500.0,137.0\" fill=\"none\" stroke=\"currentColor\"/>\n",
              "    <text dy=\"1.25em\" style=\"font-size: 0.8em; letter-spacing: 1px\">\n",
              "        <textPath xlink:href=\"#arrow-089ca14304b14438a1aeab9f17c4990e-0-4\" class=\"displacy-label\" startOffset=\"50%\" side=\"left\" fill=\"currentColor\" text-anchor=\"middle\">ccomp</textPath>\n",
              "    </text>\n",
              "    <path class=\"displacy-arrowhead\" d=\"M500.0,139.0 L508.0,127.0 492.0,127.0\" fill=\"currentColor\"/>\n",
              "</g>\n",
              "\n",
              "<g class=\"displacy-arrow\">\n",
              "    <path class=\"displacy-arc\" id=\"arrow-089ca14304b14438a1aeab9f17c4990e-0-5\" stroke-width=\"2px\" d=\"M520,137.0 C520,92.0 580.0,92.0 580.0,137.0\" fill=\"none\" stroke=\"currentColor\"/>\n",
              "    <text dy=\"1.25em\" style=\"font-size: 0.8em; letter-spacing: 1px\">\n",
              "        <textPath xlink:href=\"#arrow-089ca14304b14438a1aeab9f17c4990e-0-5\" class=\"displacy-label\" startOffset=\"50%\" side=\"left\" fill=\"currentColor\" text-anchor=\"middle\">prep</textPath>\n",
              "    </text>\n",
              "    <path class=\"displacy-arrowhead\" d=\"M580.0,139.0 L588.0,127.0 572.0,127.0\" fill=\"currentColor\"/>\n",
              "</g>\n",
              "\n",
              "<g class=\"displacy-arrow\">\n",
              "    <path class=\"displacy-arc\" id=\"arrow-089ca14304b14438a1aeab9f17c4990e-0-6\" stroke-width=\"2px\" d=\"M610,137.0 C610,92.0 670.0,92.0 670.0,137.0\" fill=\"none\" stroke=\"currentColor\"/>\n",
              "    <text dy=\"1.25em\" style=\"font-size: 0.8em; letter-spacing: 1px\">\n",
              "        <textPath xlink:href=\"#arrow-089ca14304b14438a1aeab9f17c4990e-0-6\" class=\"displacy-label\" startOffset=\"50%\" side=\"left\" fill=\"currentColor\" text-anchor=\"middle\">pobj</textPath>\n",
              "    </text>\n",
              "    <path class=\"displacy-arrowhead\" d=\"M670.0,139.0 L678.0,127.0 662.0,127.0\" fill=\"currentColor\"/>\n",
              "</g>\n",
              "\n",
              "<g class=\"displacy-arrow\">\n",
              "    <path class=\"displacy-arc\" id=\"arrow-089ca14304b14438a1aeab9f17c4990e-0-7\" stroke-width=\"2px\" d=\"M520,137.0 C520,47.0 765.0,47.0 765.0,137.0\" fill=\"none\" stroke=\"currentColor\"/>\n",
              "    <text dy=\"1.25em\" style=\"font-size: 0.8em; letter-spacing: 1px\">\n",
              "        <textPath xlink:href=\"#arrow-089ca14304b14438a1aeab9f17c4990e-0-7\" class=\"displacy-label\" startOffset=\"50%\" side=\"left\" fill=\"currentColor\" text-anchor=\"middle\">prep</textPath>\n",
              "    </text>\n",
              "    <path class=\"displacy-arrowhead\" d=\"M765.0,139.0 L773.0,127.0 757.0,127.0\" fill=\"currentColor\"/>\n",
              "</g>\n",
              "\n",
              "<g class=\"displacy-arrow\">\n",
              "    <path class=\"displacy-arc\" id=\"arrow-089ca14304b14438a1aeab9f17c4990e-0-8\" stroke-width=\"2px\" d=\"M880,137.0 C880,92.0 940.0,92.0 940.0,137.0\" fill=\"none\" stroke=\"currentColor\"/>\n",
              "    <text dy=\"1.25em\" style=\"font-size: 0.8em; letter-spacing: 1px\">\n",
              "        <textPath xlink:href=\"#arrow-089ca14304b14438a1aeab9f17c4990e-0-8\" class=\"displacy-label\" startOffset=\"50%\" side=\"left\" fill=\"currentColor\" text-anchor=\"middle\">det</textPath>\n",
              "    </text>\n",
              "    <path class=\"displacy-arrowhead\" d=\"M880,139.0 L872,127.0 888,127.0\" fill=\"currentColor\"/>\n",
              "</g>\n",
              "\n",
              "<g class=\"displacy-arrow\">\n",
              "    <path class=\"displacy-arc\" id=\"arrow-089ca14304b14438a1aeab9f17c4990e-0-9\" stroke-width=\"2px\" d=\"M790,137.0 C790,47.0 945.0,47.0 945.0,137.0\" fill=\"none\" stroke=\"currentColor\"/>\n",
              "    <text dy=\"1.25em\" style=\"font-size: 0.8em; letter-spacing: 1px\">\n",
              "        <textPath xlink:href=\"#arrow-089ca14304b14438a1aeab9f17c4990e-0-9\" class=\"displacy-label\" startOffset=\"50%\" side=\"left\" fill=\"currentColor\" text-anchor=\"middle\">pobj</textPath>\n",
              "    </text>\n",
              "    <path class=\"displacy-arrowhead\" d=\"M945.0,139.0 L953.0,127.0 937.0,127.0\" fill=\"currentColor\"/>\n",
              "</g>\n",
              "\n",
              "<g class=\"displacy-arrow\">\n",
              "    <path class=\"displacy-arc\" id=\"arrow-089ca14304b14438a1aeab9f17c4990e-0-10\" stroke-width=\"2px\" d=\"M970,137.0 C970,92.0 1030.0,92.0 1030.0,137.0\" fill=\"none\" stroke=\"currentColor\"/>\n",
              "    <text dy=\"1.25em\" style=\"font-size: 0.8em; letter-spacing: 1px\">\n",
              "        <textPath xlink:href=\"#arrow-089ca14304b14438a1aeab9f17c4990e-0-10\" class=\"displacy-label\" startOffset=\"50%\" side=\"left\" fill=\"currentColor\" text-anchor=\"middle\">prep</textPath>\n",
              "    </text>\n",
              "    <path class=\"displacy-arrowhead\" d=\"M1030.0,139.0 L1038.0,127.0 1022.0,127.0\" fill=\"currentColor\"/>\n",
              "</g>\n",
              "\n",
              "<g class=\"displacy-arrow\">\n",
              "    <path class=\"displacy-arc\" id=\"arrow-089ca14304b14438a1aeab9f17c4990e-0-11\" stroke-width=\"2px\" d=\"M1060,137.0 C1060,92.0 1120.0,92.0 1120.0,137.0\" fill=\"none\" stroke=\"currentColor\"/>\n",
              "    <text dy=\"1.25em\" style=\"font-size: 0.8em; letter-spacing: 1px\">\n",
              "        <textPath xlink:href=\"#arrow-089ca14304b14438a1aeab9f17c4990e-0-11\" class=\"displacy-label\" startOffset=\"50%\" side=\"left\" fill=\"currentColor\" text-anchor=\"middle\">pobj</textPath>\n",
              "    </text>\n",
              "    <path class=\"displacy-arrowhead\" d=\"M1120.0,139.0 L1128.0,127.0 1112.0,127.0\" fill=\"currentColor\"/>\n",
              "</g>\n",
              "</svg></span>"
            ]
          },
          "metadata": {}
        }
      ]
    },
    {
      "cell_type": "code",
      "source": [
        "!python3 -m spacy download en_core_web_lg"
      ],
      "metadata": {
        "colab": {
          "base_uri": "https://localhost:8080/"
        },
        "id": "sz0IsZtvyA6t",
        "outputId": "653eacb4-12da-4edc-e881-d793a1bd9879"
      },
      "execution_count": 116,
      "outputs": [
        {
          "output_type": "stream",
          "name": "stdout",
          "text": [
            "2023-06-19 03:04:29.727139: W tensorflow/compiler/tf2tensorrt/utils/py_utils.cc:38] TF-TRT Warning: Could not find TensorRT\n",
            "Looking in indexes: https://pypi.org/simple, https://us-python.pkg.dev/colab-wheels/public/simple/\n",
            "Collecting en-core-web-lg==3.5.0\n",
            "  Downloading https://github.com/explosion/spacy-models/releases/download/en_core_web_lg-3.5.0/en_core_web_lg-3.5.0-py3-none-any.whl (587.7 MB)\n",
            "\u001b[2K     \u001b[90m━━━━━━━━━━━━━━━━━━━━━━━━━━━━━━━━━━━━━━━\u001b[0m \u001b[32m587.7/587.7 MB\u001b[0m \u001b[31m1.4 MB/s\u001b[0m eta \u001b[36m0:00:00\u001b[0m\n",
            "\u001b[?25hRequirement already satisfied: spacy<3.6.0,>=3.5.0 in /usr/local/lib/python3.10/dist-packages (from en-core-web-lg==3.5.0) (3.5.2)\n",
            "Requirement already satisfied: spacy-legacy<3.1.0,>=3.0.11 in /usr/local/lib/python3.10/dist-packages (from spacy<3.6.0,>=3.5.0->en-core-web-lg==3.5.0) (3.0.12)\n",
            "Requirement already satisfied: spacy-loggers<2.0.0,>=1.0.0 in /usr/local/lib/python3.10/dist-packages (from spacy<3.6.0,>=3.5.0->en-core-web-lg==3.5.0) (1.0.4)\n",
            "Requirement already satisfied: murmurhash<1.1.0,>=0.28.0 in /usr/local/lib/python3.10/dist-packages (from spacy<3.6.0,>=3.5.0->en-core-web-lg==3.5.0) (1.0.9)\n",
            "Requirement already satisfied: cymem<2.1.0,>=2.0.2 in /usr/local/lib/python3.10/dist-packages (from spacy<3.6.0,>=3.5.0->en-core-web-lg==3.5.0) (2.0.7)\n",
            "Requirement already satisfied: preshed<3.1.0,>=3.0.2 in /usr/local/lib/python3.10/dist-packages (from spacy<3.6.0,>=3.5.0->en-core-web-lg==3.5.0) (3.0.8)\n",
            "Requirement already satisfied: thinc<8.2.0,>=8.1.8 in /usr/local/lib/python3.10/dist-packages (from spacy<3.6.0,>=3.5.0->en-core-web-lg==3.5.0) (8.1.9)\n",
            "Requirement already satisfied: wasabi<1.2.0,>=0.9.1 in /usr/local/lib/python3.10/dist-packages (from spacy<3.6.0,>=3.5.0->en-core-web-lg==3.5.0) (1.1.1)\n",
            "Requirement already satisfied: srsly<3.0.0,>=2.4.3 in /usr/local/lib/python3.10/dist-packages (from spacy<3.6.0,>=3.5.0->en-core-web-lg==3.5.0) (2.4.6)\n",
            "Requirement already satisfied: catalogue<2.1.0,>=2.0.6 in /usr/local/lib/python3.10/dist-packages (from spacy<3.6.0,>=3.5.0->en-core-web-lg==3.5.0) (2.0.8)\n",
            "Requirement already satisfied: typer<0.8.0,>=0.3.0 in /usr/local/lib/python3.10/dist-packages (from spacy<3.6.0,>=3.5.0->en-core-web-lg==3.5.0) (0.7.0)\n",
            "Requirement already satisfied: pathy>=0.10.0 in /usr/local/lib/python3.10/dist-packages (from spacy<3.6.0,>=3.5.0->en-core-web-lg==3.5.0) (0.10.1)\n",
            "Requirement already satisfied: smart-open<7.0.0,>=5.2.1 in /usr/local/lib/python3.10/dist-packages (from spacy<3.6.0,>=3.5.0->en-core-web-lg==3.5.0) (6.3.0)\n",
            "Requirement already satisfied: tqdm<5.0.0,>=4.38.0 in /usr/local/lib/python3.10/dist-packages (from spacy<3.6.0,>=3.5.0->en-core-web-lg==3.5.0) (4.65.0)\n",
            "Requirement already satisfied: numpy>=1.15.0 in /usr/local/lib/python3.10/dist-packages (from spacy<3.6.0,>=3.5.0->en-core-web-lg==3.5.0) (1.22.4)\n",
            "Requirement already satisfied: requests<3.0.0,>=2.13.0 in /usr/local/lib/python3.10/dist-packages (from spacy<3.6.0,>=3.5.0->en-core-web-lg==3.5.0) (2.27.1)\n",
            "Requirement already satisfied: pydantic!=1.8,!=1.8.1,<1.11.0,>=1.7.4 in /usr/local/lib/python3.10/dist-packages (from spacy<3.6.0,>=3.5.0->en-core-web-lg==3.5.0) (1.10.7)\n",
            "Requirement already satisfied: jinja2 in /usr/local/lib/python3.10/dist-packages (from spacy<3.6.0,>=3.5.0->en-core-web-lg==3.5.0) (3.1.2)\n",
            "Requirement already satisfied: setuptools in /usr/local/lib/python3.10/dist-packages (from spacy<3.6.0,>=3.5.0->en-core-web-lg==3.5.0) (67.7.2)\n",
            "Requirement already satisfied: packaging>=20.0 in /usr/local/lib/python3.10/dist-packages (from spacy<3.6.0,>=3.5.0->en-core-web-lg==3.5.0) (23.1)\n",
            "Requirement already satisfied: langcodes<4.0.0,>=3.2.0 in /usr/local/lib/python3.10/dist-packages (from spacy<3.6.0,>=3.5.0->en-core-web-lg==3.5.0) (3.3.0)\n",
            "Requirement already satisfied: typing-extensions>=4.2.0 in /usr/local/lib/python3.10/dist-packages (from pydantic!=1.8,!=1.8.1,<1.11.0,>=1.7.4->spacy<3.6.0,>=3.5.0->en-core-web-lg==3.5.0) (4.5.0)\n",
            "Requirement already satisfied: urllib3<1.27,>=1.21.1 in /usr/local/lib/python3.10/dist-packages (from requests<3.0.0,>=2.13.0->spacy<3.6.0,>=3.5.0->en-core-web-lg==3.5.0) (1.26.15)\n",
            "Requirement already satisfied: certifi>=2017.4.17 in /usr/local/lib/python3.10/dist-packages (from requests<3.0.0,>=2.13.0->spacy<3.6.0,>=3.5.0->en-core-web-lg==3.5.0) (2022.12.7)\n",
            "Requirement already satisfied: charset-normalizer~=2.0.0 in /usr/local/lib/python3.10/dist-packages (from requests<3.0.0,>=2.13.0->spacy<3.6.0,>=3.5.0->en-core-web-lg==3.5.0) (2.0.12)\n",
            "Requirement already satisfied: idna<4,>=2.5 in /usr/local/lib/python3.10/dist-packages (from requests<3.0.0,>=2.13.0->spacy<3.6.0,>=3.5.0->en-core-web-lg==3.5.0) (3.4)\n",
            "Requirement already satisfied: blis<0.8.0,>=0.7.8 in /usr/local/lib/python3.10/dist-packages (from thinc<8.2.0,>=8.1.8->spacy<3.6.0,>=3.5.0->en-core-web-lg==3.5.0) (0.7.9)\n",
            "Requirement already satisfied: confection<1.0.0,>=0.0.1 in /usr/local/lib/python3.10/dist-packages (from thinc<8.2.0,>=8.1.8->spacy<3.6.0,>=3.5.0->en-core-web-lg==3.5.0) (0.0.4)\n",
            "Requirement already satisfied: click<9.0.0,>=7.1.1 in /usr/local/lib/python3.10/dist-packages (from typer<0.8.0,>=0.3.0->spacy<3.6.0,>=3.5.0->en-core-web-lg==3.5.0) (8.1.3)\n",
            "Requirement already satisfied: MarkupSafe>=2.0 in /usr/local/lib/python3.10/dist-packages (from jinja2->spacy<3.6.0,>=3.5.0->en-core-web-lg==3.5.0) (2.1.2)\n",
            "\u001b[38;5;2m✔ Download and installation successful\u001b[0m\n",
            "You can now load the package via spacy.load('en_core_web_lg')\n"
          ]
        }
      ]
    },
    {
      "cell_type": "code",
      "source": [
        "# Download the language model\n",
        "spacy.cli.download(\"en_core_web_lg\")"
      ],
      "metadata": {
        "colab": {
          "base_uri": "https://localhost:8080/"
        },
        "id": "A1ewD4Diws53",
        "outputId": "e9bbe5da-6076-423e-f6d0-169dc4dd26e8"
      },
      "execution_count": 117,
      "outputs": [
        {
          "output_type": "stream",
          "name": "stdout",
          "text": [
            "\u001b[38;5;2m✔ Download and installation successful\u001b[0m\n",
            "You can now load the package via spacy.load('en_core_web_lg')\n"
          ]
        }
      ]
    },
    {
      "cell_type": "code",
      "source": [
        "nlp = spacy.load('en_core_web_lg')\n",
        "print(nlp.vocab['banana'].vector)"
      ],
      "metadata": {
        "colab": {
          "base_uri": "https://localhost:8080/"
        },
        "id": "PYGrT4C0mSCX",
        "outputId": "880f4233-289a-476c-b1fa-ad5359d738bd"
      },
      "execution_count": 118,
      "outputs": [
        {
          "output_type": "stream",
          "name": "stdout",
          "text": [
            "[ 0.20778  -2.4151    0.36605   2.0139   -0.23752  -3.1952   -0.2952\n",
            "  1.2272   -3.4129   -0.54969   0.32634  -1.0813    0.55626   1.5195\n",
            "  0.97797  -3.1816   -0.37207  -0.86093   2.1509   -4.0845    0.035405\n",
            "  3.5702   -0.79413  -1.7025   -1.6371   -3.198    -1.9387    0.91166\n",
            "  0.85409   1.8039   -1.103    -2.5274    1.6365   -0.82082   1.0278\n",
            " -1.705     1.5511   -0.95633  -1.4702   -1.865    -0.19324  -0.49123\n",
            "  2.2361    2.2119    3.6654    1.7943   -0.20601   1.5483   -1.3964\n",
            " -0.50819   2.1288   -2.332     1.3539   -2.1917    1.8923    0.28472\n",
            "  0.54285   1.2309    0.26027   1.9542    1.1739   -0.40348   3.2028\n",
            "  0.75381  -2.7179   -1.3587   -1.1965   -2.0923    2.2855   -0.3058\n",
            " -0.63174   0.70083   0.16899   1.2325    0.97006  -0.23356  -2.094\n",
            " -1.737     3.6075   -1.511    -0.9135    0.53878   0.49268   0.44751\n",
            "  0.6315    1.4963    4.1725    2.1961   -1.2409    0.4214    2.9678\n",
            "  1.841     3.0133   -4.4652    0.96521  -0.29787   4.3386   -1.2527\n",
            " -1.7734   -3.5637   -0.20035  -3.3013    0.99951  -0.92888  -0.94594\n",
            "  1.5124   -3.9385    2.7935   -3.1042    3.3382    0.54513  -0.37663\n",
            "  2.5151    0.51468  -0.88907   1.011     3.4705   -3.6037    1.3702\n",
            "  2.3468    1.6674    1.3904   -2.8112    2.237    -1.0344   -0.57164\n",
            "  1.0641   -1.6919    1.958    -0.78305   0.14741   0.51083   1.8278\n",
            " -0.69638   0.90548   0.62282  -1.8315   -2.8587    0.48424  -2.0527\n",
            " -0.53808  -2.3472    1.0354   -1.8257   -0.3892   -0.24943   0.8651\n",
            " -1.5195    1.2166   -2.698    -0.96698   2.2175   -0.16089  -0.49677\n",
            " -0.19646   1.3284    4.0824    1.3919    0.80669  -1.0316   -0.28056\n",
            " -1.8632    0.47716  -0.53628   1.3853   -2.1755   -0.2354    2.4933\n",
            " -0.87255   1.4493   -0.10778  -0.44159   1.3462    4.4211   -1.8385\n",
            "  0.3985    0.47637  -0.60074   3.3583   -0.15006  -0.40495   2.7225\n",
            " -1.6297    0.86797  -4.1445   -2.7793    1.1535   -0.011691  0.9792\n",
            " -1.0141    0.80134   0.43642   1.4337    2.8927    0.82871  -1.1827\n",
            " -1.3838    2.3903   -0.89323   1.1461   -1.7435    0.8654   -0.27075\n",
            " -0.78698   1.5631   -0.5923    0.098082 -0.26682   1.6282   -0.77495\n",
            "  3.2552    1.7964   -1.4314    1.2336    2.3102   -1.6328    2.8366\n",
            " -0.71384   0.43967   1.5627    3.079    -0.922    -0.43981  -0.7659\n",
            "  1.9362   -2.2479    1.041     0.63206   1.5855    3.4097   -2.9204\n",
            " -1.4751   -0.59534  -1.688    -4.1362    2.745    -2.8515    3.6509\n",
            " -0.66993  -2.8794    2.0733    1.1779   -2.0307    2.595    -0.12246\n",
            "  1.5844    1.1855    0.022385 -2.2916   -2.2684   -2.7537    0.34981\n",
            " -4.6243   -0.96521  -1.1435   -2.8894   -0.12619   2.9577   -1.7227\n",
            "  0.24757   1.2149    3.5349   -0.95802   0.080346 -1.6553   -0.6734\n",
            "  2.2918   -1.8229   -1.1336    1.8884    2.4789   -0.66061   2.0529\n",
            " -0.76687   0.32362  -2.2579    0.91278   0.36231   0.61562  -0.15396\n",
            " -0.42917  -0.89848   0.17298  -0.76978  -2.0222   -1.7127   -1.5632\n",
            "  0.56631  -1.354     2.6261    1.9156   -1.5651    1.8315   -1.4257\n",
            " -1.6861   -0.51953   1.7635   -0.50722   1.388    -1.1012  ]\n"
          ]
        }
      ]
    },
    {
      "cell_type": "code",
      "source": [
        "# 9.1 \"man\" - \"woman\" + \"queen\" = \"king\"\n",
        "\n",
        "cosine_similarity = lambda x, y: 1 - spatial.distance.cosine(x, y)\n",
        "\n",
        "man = nlp.vocab['man'].vector\n",
        "woman = nlp.vocab['woman'].vector\n",
        "queen = nlp.vocab['queen'].vector\n",
        "king = nlp.vocab['king'].vector"
      ],
      "metadata": {
        "id": "jLgG4yw8bfjt"
      },
      "execution_count": 119,
      "outputs": []
    },
    {
      "cell_type": "code",
      "source": [
        "nlp.vocab['king'].vector"
      ],
      "metadata": {
        "id": "AS4Lhylgbk6A",
        "outputId": "b204ff39-4942-4e46-fa87-45a036b756a4",
        "colab": {
          "base_uri": "https://localhost:8080/"
        }
      },
      "execution_count": 120,
      "outputs": [
        {
          "output_type": "execute_result",
          "data": {
            "text/plain": [
              "array([-1.1296e-01, -4.1865e+00, -1.8453e+00,  3.0781e-01,  2.4956e+00,\n",
              "        9.6267e-01, -1.8161e+00,  4.4655e+00, -2.8210e+00,  9.7090e-01,\n",
              "        1.3542e+01,  4.3195e-01, -5.3098e+00,  4.7098e+00,  2.9030e+00,\n",
              "        1.5588e+00,  6.0064e+00, -3.0345e+00,  1.0626e+00, -7.7197e-01,\n",
              "       -5.4771e+00, -9.7380e-01, -4.4345e+00,  5.8367e+00,  2.4302e+00,\n",
              "       -3.9408e+00, -9.1862e-01, -4.9124e+00,  1.4591e+00, -7.2772e-01,\n",
              "        3.4957e+00, -4.0077e+00, -1.8354e+00, -4.1052e+00,  4.9211e+00,\n",
              "       -9.7053e-01,  1.9223e+00,  5.2605e+00,  1.6086e+00,  7.1328e-01,\n",
              "       -1.2146e+00, -1.9869e+00,  8.0265e-01,  2.9298e+00,  7.2985e-01,\n",
              "       -6.2892e-01, -1.7082e+00,  1.9893e+00,  4.7529e-01,  3.2264e+00,\n",
              "       -3.9215e+00,  4.6556e+00,  1.3475e+00, -1.0979e+00, -3.0365e+00,\n",
              "        1.5815e+00,  2.2835e+00, -4.0616e+00,  2.5730e+00,  4.0618e+00,\n",
              "        9.5438e-01, -6.2563e+00,  5.6463e+00, -3.8933e+00,  4.4076e+00,\n",
              "        2.0517e+00, -6.6906e+00, -6.9448e+00,  6.0371e+00,  9.3081e-01,\n",
              "        1.5180e+00,  2.3974e+00, -3.8043e+00, -4.3941e+00, -3.6979e+00,\n",
              "        2.9489e+00, -8.9735e+00,  9.5273e+00, -6.4149e-01,  2.2565e+00,\n",
              "       -7.2062e+00, -1.0078e+00, -4.4381e+00,  2.0424e+00, -6.6736e-01,\n",
              "        4.3500e+00, -1.6199e+00,  3.1975e+00, -1.2065e+00, -6.5684e-01,\n",
              "        7.5759e-01, -1.6033e+00,  2.5450e+00, -5.4999e+00, -1.8909e+00,\n",
              "       -1.2985e-02,  2.6703e+00,  5.4623e-01, -2.4504e+00, -4.4326e-01,\n",
              "       -1.7250e+00,  9.1585e-01,  7.5243e+00, -5.8451e-01,  3.4550e+00,\n",
              "        3.4817e+00, -4.1599e+00, -5.5125e-01,  2.7681e-02, -3.1687e+00,\n",
              "       -4.8459e+00,  7.9108e+00, -1.7062e+00, -2.6731e+00,  9.7841e+00,\n",
              "        3.8851e+00, -3.7930e+00, -5.2979e-01,  6.6191e-01, -9.7232e-01,\n",
              "       -9.4692e-01, -4.4918e+00,  1.0932e+00, -4.3751e+00,  1.3182e-02,\n",
              "       -1.0243e+01,  4.7973e+00, -8.7426e+00,  2.5479e+00,  2.3454e+00,\n",
              "       -6.4140e+00,  7.3875e-01,  5.8565e+00, -2.5964e-01,  1.6558e+00,\n",
              "       -3.1353e+00, -6.6752e+00,  1.0550e+00,  1.7017e+00, -3.8360e+00,\n",
              "       -1.1980e+01, -1.3750e+00, -1.9261e+00,  3.1267e+00,  3.2874e+00,\n",
              "       -2.8928e+00, -1.0893e+01,  4.2848e+00, -4.0890e-02, -5.9565e-01,\n",
              "       -3.3473e-02,  1.6832e+00,  2.1454e-01,  7.2849e+00,  2.8116e+00,\n",
              "        2.5708e+00, -3.9823e-01, -1.7257e+00, -6.1063e+00, -4.2618e+00,\n",
              "       -3.3886e+00, -9.2663e+00,  1.7600e-01, -3.3873e-02, -3.7070e+00,\n",
              "       -9.1995e+00, -7.1594e+00, -6.0189e-01, -7.2560e-01,  1.5342e+00,\n",
              "        5.1083e+00,  2.4373e+00, -3.8012e+00, -2.1752e-01,  2.9503e+00,\n",
              "       -2.5551e+00,  4.9827e-01,  8.6823e-01, -4.3449e+00, -4.3821e+00,\n",
              "        3.4993e+00, -1.9518e+00,  2.2036e+00, -6.6526e-01,  7.1015e+00,\n",
              "        3.6784e+00,  2.6251e-01,  1.5379e+00, -8.1950e-01,  1.1065e+00,\n",
              "        3.3167e+00, -5.9392e+00, -4.0191e+00,  2.6496e+00,  2.3168e+00,\n",
              "       -8.5681e-02, -3.5059e+00,  1.5915e+00, -3.1831e-01,  6.9366e+00,\n",
              "        3.8439e+00,  9.4076e-01, -7.5424e+00,  2.7847e+00, -2.2814e+00,\n",
              "       -4.2487e+00, -2.6604e-01,  3.7954e+00, -3.6526e+00,  4.3823e+00,\n",
              "       -2.6506e+00,  3.5298e+00,  2.2597e+00,  6.3055e+00, -7.0194e-01,\n",
              "        4.1565e+00,  8.2306e+00,  5.7675e-01,  4.3596e-01, -8.8400e+00,\n",
              "       -3.0249e+00,  4.0032e+00,  2.4232e+00,  6.9885e+00, -2.5906e-01,\n",
              "       -4.2059e+00,  1.2643e+00,  1.0110e+01,  9.7016e-01,  2.2963e+00,\n",
              "       -1.2802e+00, -1.4447e+00, -3.4386e+00,  5.6555e+00,  3.3911e+00,\n",
              "        6.9418e+00, -6.8705e+00, -8.1536e-01, -7.2334e+00,  3.0509e+00,\n",
              "        8.7676e-01,  6.4216e+00, -3.1655e+00, -1.5308e+00, -1.1056e+00,\n",
              "       -5.0426e+00,  4.6801e+00,  4.6812e+00,  4.0401e+00, -3.7289e-01,\n",
              "        6.7437e-01, -8.6660e+00, -9.9656e+00,  2.4979e+00, -1.4783e-01,\n",
              "       -5.6301e+00,  4.5542e+00,  4.8165e+00, -2.2055e-01,  4.5169e+00,\n",
              "        1.7496e+00,  2.9019e-01, -1.1683e+00, -4.3981e-01,  2.3469e+00,\n",
              "       -4.3521e-02,  6.3715e-01,  5.8259e-01, -8.5701e+00,  4.6419e+00,\n",
              "        2.3809e+00, -1.9273e-01, -6.9772e+00,  7.6172e-01, -6.3895e-01,\n",
              "       -3.3769e+00,  6.1265e+00, -1.9695e+00, -2.3404e+00,  6.6789e+00,\n",
              "       -3.5265e+00, -3.3883e+00,  6.1372e+00,  4.5550e+00,  6.0957e+00,\n",
              "       -2.2007e-01,  6.2087e-01,  2.5527e+00, -4.5590e+00, -2.8429e+00,\n",
              "        2.0645e+00, -1.6221e+00, -2.8171e+00, -2.9680e+00,  1.3651e+00,\n",
              "        3.6137e+00, -3.2096e-01, -1.9346e+00, -4.8738e+00,  2.5565e+00],\n",
              "      dtype=float32)"
            ]
          },
          "metadata": {},
          "execution_count": 120
        }
      ]
    },
    {
      "cell_type": "code",
      "source": [
        "# We now need to find the closest vector in the vocabulary to the result of \"man\" - \"woman\" + \"queen\"\n",
        "maybe_king = man - woman + queen\n",
        "computed_similarities = []\n",
        "\n",
        "for word in nlp.vocab:\n",
        "    # Ignore words without vectors\n",
        "    if not word.has_vector:\n",
        "        continue\n",
        "    similarity = cosine_similarity(maybe_king, word.vector)\n",
        "    computed_similarities.append((word, similarity))\n",
        "\n",
        "computed_similarities = sorted(computed_similarities, key=lambda item: -item[1])\n",
        "print([w[0].text for w in computed_similarities[:10]])\n"
      ],
      "metadata": {
        "colab": {
          "base_uri": "https://localhost:8080/"
        },
        "id": "U5BIYB7iu4hl",
        "outputId": "d5cc72fa-0637-425e-f490-5a075cae22fa"
      },
      "execution_count": 121,
      "outputs": [
        {
          "output_type": "stream",
          "name": "stdout",
          "text": [
            "['queen', 'man', 'king', 'woman', 'he', 'nothin’', \"'cause\", \"'Cause\", 'He', 'That']\n"
          ]
        }
      ]
    },
    {
      "cell_type": "code",
      "source": [
        "# 10 Compute Similarity\n",
        "\n",
        "banana = nlp.vocab['banana']\n",
        "dog = nlp.vocab['dog']\n",
        "fruit = nlp.vocab['fruit']\n",
        "animal = nlp.vocab['animal']\n",
        "\n",
        "print(dog.similarity(animal), dog.similarity(fruit))\n",
        "print(banana.similarity(fruit), banana.similarity(animal))"
      ],
      "metadata": {
        "colab": {
          "base_uri": "https://localhost:8080/"
        },
        "id": "uco2cTedu6Tg",
        "outputId": "ce3f8f09-bf36-41bf-de0c-f87566f7b1e1"
      },
      "execution_count": 122,
      "outputs": [
        {
          "output_type": "stream",
          "name": "stdout",
          "text": [
            "0.5192115902900696 0.13643456995487213\n",
            "0.6650428175926208 0.18752224743366241\n"
          ]
        }
      ]
    },
    {
      "cell_type": "code",
      "source": [
        "# 10.1 Sentences\n",
        "\n",
        "target = nlp(\"Cats are beautiful animals.\")\n",
        "\n",
        "doc1 = nlp(\"Dogs are awesome.\")\n",
        "doc2 = nlp(\"Some gorgeous creatures are felines.\")\n",
        "doc3 = nlp(\"Dolphins are swimming mammals.\")\n",
        "\n",
        "print(target.similarity(doc1))\n",
        "print(target.similarity(doc2))\n",
        "print(target.similarity(doc3))"
      ],
      "metadata": {
        "colab": {
          "base_uri": "https://localhost:8080/"
        },
        "id": "sgLK2CeIu796",
        "outputId": "39d50349-6b17-486a-9dc3-104ca669044f"
      },
      "execution_count": 123,
      "outputs": [
        {
          "output_type": "stream",
          "name": "stdout",
          "text": [
            "0.925293344292394\n",
            "0.9067517259890845\n",
            "0.9037427153904276\n"
          ]
        }
      ]
    },
    {
      "cell_type": "code",
      "source": [
        "\n",
        "def penn_to_wn(tag):\n",
        "    if tag.startswith('N'):\n",
        "        return 'n'\n",
        "    if tag.startswith('V'):\n",
        "        return 'v'\n",
        "    if tag.startswith('J'):\n",
        "        return 'a'\n",
        "    if tag.startswith('R'):\n",
        "        return 'r'\n",
        "    return None\n",
        "\n",
        "\n"
      ],
      "metadata": {
        "id": "cRQdvaQXdWvT"
      },
      "execution_count": 124,
      "outputs": []
    },
    {
      "cell_type": "code",
      "source": [
        "from nltk.corpus import wordnet as wn"
      ],
      "metadata": {
        "id": "gl3kGi-ZhDry"
      },
      "execution_count": 125,
      "outputs": []
    },
    {
      "cell_type": "code",
      "source": [
        "# Define the WordnetPipeline component\n",
        "class WordnetPipeline:\n",
        "    def __init__(self, nlp):\n",
        "        Token.set_extension('synset', default=None, force=True)\n",
        "        self.nlp = nlp\n",
        "\n",
        "    def __call__(self, doc):\n",
        "        for token in doc:\n",
        "            if token.pos_ in ['NOUN', 'VERB', 'ADJ', 'ADV']:\n",
        "                synsets = wn.synsets(token.lemma_, penn_to_wn(token.pos_))\n",
        "                if synsets:\n",
        "                    token._.synset = synsets[0]\n",
        "        return doc"
      ],
      "metadata": {
        "id": "PGD2niGKkRJn"
      },
      "execution_count": 126,
      "outputs": []
    },
    {
      "cell_type": "code",
      "source": [
        "# Load the 'en_core_web_sm' model\n",
        "nlp = spacy.load(\"en_core_web_sm\")"
      ],
      "metadata": {
        "id": "tavDyg0RHaSF"
      },
      "execution_count": 127,
      "outputs": []
    },
    {
      "cell_type": "code",
      "source": [
        "# 11.1 Pipeline structure\n",
        "\n",
        "print(nlp.pipe_names)"
      ],
      "metadata": {
        "colab": {
          "base_uri": "https://localhost:8080/"
        },
        "id": "89QjSyiEvBj7",
        "outputId": "7ba6d4e4-6ccf-4156-b74f-3dd3f65068f8"
      },
      "execution_count": 128,
      "outputs": [
        {
          "output_type": "stream",
          "name": "stdout",
          "text": [
            "['tok2vec', 'tagger', 'parser', 'attribute_ruler', 'lemmatizer', 'ner']\n"
          ]
        }
      ]
    },
    {
      "cell_type": "code",
      "source": [
        "\n",
        "from nltk.corpus import wordnet as wn\n",
        "\n",
        "def penn_to_wn(tag):\n",
        "    if tag.startswith('N'):\n",
        "        return 'n'\n",
        "    if tag.startswith('V'):\n",
        "        return 'v'\n",
        "    if tag.startswith('J'):\n",
        "        return 'a'\n",
        "    if tag.startswith('R'):\n",
        "        return 'r'\n",
        "    return None\n",
        "\n",
        "# Define the WordnetPipeline component\n",
        "class WordnetPipeline:\n",
        "    def __init__(self, nlp):\n",
        "        Token.set_extension('synset', default=None, force=True)\n",
        "        self.nlp = nlp\n",
        "\n",
        "    def __call__(self, doc):\n",
        "        for token in doc:\n",
        "            if token.pos_ in ['NOUN', 'VERB', 'ADJ', 'ADV']:\n",
        "                synsets = wn.synsets(token.lemma_, penn_to_wn(token.pos_))\n",
        "                if synsets:\n",
        "                    token._.synset = synsets[0]\n",
        "        return doc\n"
      ],
      "metadata": {
        "id": "XJLr2wLElkGz"
      },
      "execution_count": 129,
      "outputs": []
    },
    {
      "cell_type": "code",
      "source": [
        "nlp = spacy.load('en_core_web_sm')\n",
        "wn_pipeline = WordnetPipeline(nlp)\n",
        "#nlp.add_pipe(wn_pipeline, name=\"wn_synsets\", last=True)\n",
        "\n",
        "doc = nlp(\"apple world this\")\n",
        "\n",
        "for token in doc:\n",
        "    print(token.text, \"-\", token._.synset)"
      ],
      "metadata": {
        "id": "CtfAqQs3mgB2",
        "outputId": "491ddf47-d56b-4482-8808-97ad1f5ac47d",
        "colab": {
          "base_uri": "https://localhost:8080/"
        }
      },
      "execution_count": 131,
      "outputs": [
        {
          "output_type": "stream",
          "name": "stdout",
          "text": [
            "apple - None\n",
            "world - None\n",
            "this - None\n"
          ]
        }
      ]
    }
  ]
}