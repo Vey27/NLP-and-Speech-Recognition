{
 "cells": [
  {
   "cell_type": "code",
   "execution_count": 1,
   "metadata": {
    "id": "4gs9htvM7n_x"
   },
   "outputs": [],
   "source": [
    "# packages to load for data analysis\n",
    "import numpy as np \n",
    "import pandas as pd \n",
    "import seaborn as sns\n",
    "import matplotlib.pyplot as plt"
   ]
  },
  {
   "cell_type": "code",
   "execution_count": 2,
   "metadata": {
    "colab": {
     "base_uri": "https://localhost:8080/",
     "height": 527
    },
    "executionInfo": {
     "elapsed": 5891,
     "status": "ok",
     "timestamp": 1684460444551,
     "user": {
      "displayName": "Dr. Uohna June Thiessen",
      "userId": "00333965324192838796"
     },
     "user_tz": 240
    },
    "id": "lX5m1WG3Prj1",
    "outputId": "c2c614d5-6f8c-4696-c314-e95dbbb4c08e"
   },
   "outputs": [
    {
     "data": {
      "text/html": [
       "<div>\n",
       "<style scoped>\n",
       "    .dataframe tbody tr th:only-of-type {\n",
       "        vertical-align: middle;\n",
       "    }\n",
       "\n",
       "    .dataframe tbody tr th {\n",
       "        vertical-align: top;\n",
       "    }\n",
       "\n",
       "    .dataframe thead th {\n",
       "        text-align: right;\n",
       "    }\n",
       "</style>\n",
       "<table border=\"1\" class=\"dataframe\">\n",
       "  <thead>\n",
       "    <tr style=\"text-align: right;\">\n",
       "      <th></th>\n",
       "      <th>Id</th>\n",
       "      <th>ProductId</th>\n",
       "      <th>UserId</th>\n",
       "      <th>ProfileName</th>\n",
       "      <th>HelpfulnessNumerator</th>\n",
       "      <th>HelpfulnessDenominator</th>\n",
       "      <th>Score</th>\n",
       "      <th>Time</th>\n",
       "      <th>Summary</th>\n",
       "      <th>Text</th>\n",
       "    </tr>\n",
       "  </thead>\n",
       "  <tbody>\n",
       "    <tr>\n",
       "      <th>0</th>\n",
       "      <td>1</td>\n",
       "      <td>B001E4KFG0</td>\n",
       "      <td>A3SGXH7AUHU8GW</td>\n",
       "      <td>delmartian</td>\n",
       "      <td>1</td>\n",
       "      <td>1</td>\n",
       "      <td>5</td>\n",
       "      <td>1303862400</td>\n",
       "      <td>Good Quality Dog Food</td>\n",
       "      <td>I have bought several of the Vitality canned d...</td>\n",
       "    </tr>\n",
       "    <tr>\n",
       "      <th>1</th>\n",
       "      <td>2</td>\n",
       "      <td>B00813GRG4</td>\n",
       "      <td>A1D87F6ZCVE5NK</td>\n",
       "      <td>dll pa</td>\n",
       "      <td>0</td>\n",
       "      <td>0</td>\n",
       "      <td>1</td>\n",
       "      <td>1346976000</td>\n",
       "      <td>Not as Advertised</td>\n",
       "      <td>Product arrived labeled as Jumbo Salted Peanut...</td>\n",
       "    </tr>\n",
       "    <tr>\n",
       "      <th>2</th>\n",
       "      <td>3</td>\n",
       "      <td>B000LQOCH0</td>\n",
       "      <td>ABXLMWJIXXAIN</td>\n",
       "      <td>Natalia Corres \"Natalia Corres\"</td>\n",
       "      <td>1</td>\n",
       "      <td>1</td>\n",
       "      <td>4</td>\n",
       "      <td>1219017600</td>\n",
       "      <td>\"Delight\" says it all</td>\n",
       "      <td>This is a confection that has been around a fe...</td>\n",
       "    </tr>\n",
       "    <tr>\n",
       "      <th>3</th>\n",
       "      <td>4</td>\n",
       "      <td>B000UA0QIQ</td>\n",
       "      <td>A395BORC6FGVXV</td>\n",
       "      <td>Karl</td>\n",
       "      <td>3</td>\n",
       "      <td>3</td>\n",
       "      <td>2</td>\n",
       "      <td>1307923200</td>\n",
       "      <td>Cough Medicine</td>\n",
       "      <td>If you are looking for the secret ingredient i...</td>\n",
       "    </tr>\n",
       "    <tr>\n",
       "      <th>4</th>\n",
       "      <td>5</td>\n",
       "      <td>B006K2ZZ7K</td>\n",
       "      <td>A1UQRSCLF8GW1T</td>\n",
       "      <td>Michael D. Bigham \"M. Wassir\"</td>\n",
       "      <td>0</td>\n",
       "      <td>0</td>\n",
       "      <td>5</td>\n",
       "      <td>1350777600</td>\n",
       "      <td>Great taffy</td>\n",
       "      <td>Great taffy at a great price.  There was a wid...</td>\n",
       "    </tr>\n",
       "  </tbody>\n",
       "</table>\n",
       "</div>"
      ],
      "text/plain": [
       "   Id   ProductId          UserId                      ProfileName  \\\n",
       "0   1  B001E4KFG0  A3SGXH7AUHU8GW                       delmartian   \n",
       "1   2  B00813GRG4  A1D87F6ZCVE5NK                           dll pa   \n",
       "2   3  B000LQOCH0   ABXLMWJIXXAIN  Natalia Corres \"Natalia Corres\"   \n",
       "3   4  B000UA0QIQ  A395BORC6FGVXV                             Karl   \n",
       "4   5  B006K2ZZ7K  A1UQRSCLF8GW1T    Michael D. Bigham \"M. Wassir\"   \n",
       "\n",
       "   HelpfulnessNumerator  HelpfulnessDenominator  Score        Time  \\\n",
       "0                     1                       1      5  1303862400   \n",
       "1                     0                       0      1  1346976000   \n",
       "2                     1                       1      4  1219017600   \n",
       "3                     3                       3      2  1307923200   \n",
       "4                     0                       0      5  1350777600   \n",
       "\n",
       "                 Summary                                               Text  \n",
       "0  Good Quality Dog Food  I have bought several of the Vitality canned d...  \n",
       "1      Not as Advertised  Product arrived labeled as Jumbo Salted Peanut...  \n",
       "2  \"Delight\" says it all  This is a confection that has been around a fe...  \n",
       "3         Cough Medicine  If you are looking for the secret ingredient i...  \n",
       "4            Great taffy  Great taffy at a great price.  There was a wid...  "
      ]
     },
     "execution_count": 2,
     "metadata": {},
     "output_type": "execute_result"
    }
   ],
   "source": [
    "# Unzip and load the Amazon reviews data \n",
    "df = pd.read_csv('Reviews.csv')\n",
    "df.head() "
   ]
  },
  {
   "cell_type": "code",
   "execution_count": 3,
   "metadata": {
    "colab": {
     "base_uri": "https://localhost:8080/"
    },
    "executionInfo": {
     "elapsed": 4442,
     "status": "ok",
     "timestamp": 1684458335848,
     "user": {
      "displayName": "Dr. Uohna June Thiessen",
      "userId": "00333965324192838796"
     },
     "user_tz": 240
    },
    "id": "oy3vSCzlODM6",
    "outputId": "1627e938-89ed-4fbc-ded1-157fd92ce48d"
   },
   "outputs": [
    {
     "name": "stdout",
     "output_type": "stream",
     "text": [
      "Requirement already satisfied: keras.preprocessing in /opt/anaconda3/lib/python3.9/site-packages (1.1.2)\n",
      "Requirement already satisfied: numpy>=1.9.1 in /opt/anaconda3/lib/python3.9/site-packages (from keras.preprocessing) (1.24.0)\n",
      "Requirement already satisfied: six>=1.9.0 in /opt/anaconda3/lib/python3.9/site-packages (from keras.preprocessing) (1.16.0)\n"
     ]
    }
   ],
   "source": [
    "!pip install keras.preprocessing"
   ]
  },
  {
   "cell_type": "code",
   "execution_count": 4,
   "metadata": {
    "id": "MXKeEcFBN6Hg"
   },
   "outputs": [],
   "source": [
    "import tensorflow as tf\n",
    "from keras.preprocessing.text import Tokenizer\n",
    "from keras_preprocessing.sequence import pad_sequences"
   ]
  },
  {
   "cell_type": "code",
   "execution_count": 5,
   "metadata": {
    "id": "0eJSTTYnkJQd"
   },
   "outputs": [],
   "source": [
    "vocab_size = 10000\n",
    "embedding_dim = 16\n",
    "max_length = 100\n",
    "trunc_type='post'\n",
    "padding_type='post'\n",
    "oov_tok = \"<OOV>\"\n",
    "training_size = 20000"
   ]
  },
  {
   "cell_type": "code",
   "execution_count": 6,
   "metadata": {
    "id": "RN5ZhRJcQm-F"
   },
   "outputs": [],
   "source": [
    "# assign reviews with score > 3 as positive sentiment, score < 3 negative sentiment, remove score = 3\n",
    "df = df[df['Score'] != 3]\n",
    "df['sentiment'] = df['Score'].apply(lambda rating : +1 if rating > 3 else -1)"
   ]
  },
  {
   "cell_type": "code",
   "execution_count": 7,
   "metadata": {
    "id": "v8iR3ssWQT-6"
   },
   "outputs": [],
   "source": [
    "df_sub = df[[\"Summary\",\"sentiment\"]]\n",
    "df_sub = df_sub.dropna(subset=['Summary'])"
   ]
  },
  {
   "cell_type": "code",
   "execution_count": 8,
   "metadata": {
    "colab": {
     "base_uri": "https://localhost:8080/"
    },
    "executionInfo": {
     "elapsed": 549,
     "status": "ok",
     "timestamp": 1684458751765,
     "user": {
      "displayName": "Dr. Uohna June Thiessen",
      "userId": "00333965324192838796"
     },
     "user_tz": 240
    },
    "id": "LzFUMcqtUvQW",
    "outputId": "80402889-876f-44b1-9917-339625eb1bd5"
   },
   "outputs": [
    {
     "data": {
      "text/plain": [
       "(525789, 2)"
      ]
     },
     "execution_count": 8,
     "metadata": {},
     "output_type": "execute_result"
    }
   ],
   "source": [
    "df_sub.shape"
   ]
  },
  {
   "cell_type": "code",
   "execution_count": 9,
   "metadata": {
    "id": "Fb0VOTPSYGfI"
   },
   "outputs": [],
   "source": [
    "# then continue with your splitting code\n",
    "index = df_sub.index\n",
    "df_sub['random_number'] = np.random.randn(len(index))\n",
    "train = df_sub[df_sub['random_number'] <= 0.8]\n",
    "test = df_sub[df_sub['random_number'] > 0.8]"
   ]
  },
  {
   "cell_type": "code",
   "execution_count": 10,
   "metadata": {
    "id": "Nn0lvj1zjptt"
   },
   "outputs": [],
   "source": [
    "X_train = train[['Summary']]\n",
    "y_train = train['sentiment']"
   ]
  },
  {
   "cell_type": "code",
   "execution_count": 11,
   "metadata": {
    "colab": {
     "base_uri": "https://localhost:8080/"
    },
    "executionInfo": {
     "elapsed": 543,
     "status": "ok",
     "timestamp": 1684459657395,
     "user": {
      "displayName": "Dr. Uohna June Thiessen",
      "userId": "00333965324192838796"
     },
     "user_tz": 240
    },
    "id": "wIyc7naSnlIE",
    "outputId": "d37ced1e-9ce7-44bd-a790-5e102dab7599"
   },
   "outputs": [
    {
     "data": {
      "text/plain": [
       "((414094, 1), (414094,))"
      ]
     },
     "execution_count": 11,
     "metadata": {},
     "output_type": "execute_result"
    }
   ],
   "source": [
    "X_train.shape, y_train.shape"
   ]
  },
  {
   "cell_type": "code",
   "execution_count": 12,
   "metadata": {
    "id": "KzQzbyunk9Lr"
   },
   "outputs": [],
   "source": [
    "X_test = test[['Summary']]\n",
    "y_test = test['sentiment']"
   ]
  },
  {
   "cell_type": "code",
   "execution_count": 13,
   "metadata": {
    "colab": {
     "base_uri": "https://localhost:8080/"
    },
    "executionInfo": {
     "elapsed": 418,
     "status": "ok",
     "timestamp": 1684459674528,
     "user": {
      "displayName": "Dr. Uohna June Thiessen",
      "userId": "00333965324192838796"
     },
     "user_tz": 240
    },
    "id": "dMviP3VsnqId",
    "outputId": "fdfd8156-5c5d-4384-df2d-53f935a994e1"
   },
   "outputs": [
    {
     "data": {
      "text/plain": [
       "((111695, 1), (111695,))"
      ]
     },
     "execution_count": 13,
     "metadata": {},
     "output_type": "execute_result"
    }
   ],
   "source": [
    "X_test.shape, y_test.shape"
   ]
  },
  {
   "cell_type": "code",
   "execution_count": 14,
   "metadata": {
    "id": "yvcEDGo3aKBB"
   },
   "outputs": [],
   "source": [
    "## create tokens for every word in the Summary\n",
    "tokenizer = Tokenizer(num_words=vocab_size, oov_token=oov_tok)\n",
    "tokenizer.fit_on_texts(X_train['Summary'].values)  # use values to get the underlying numpy array of strings\n",
    "word_index = tokenizer.word_index"
   ]
  },
  {
   "cell_type": "code",
   "execution_count": 15,
   "metadata": {
    "id": "GoDrCu0BP7PV"
   },
   "outputs": [],
   "source": [
    "## create tokens for every word in the Summary\n",
    "tokenizer = Tokenizer(num_words=vocab_size, oov_token=oov_tok)\n",
    "tokenizer.fit_on_texts(X_train)\n",
    "word_index = tokenizer.word_index"
   ]
  },
  {
   "cell_type": "code",
   "execution_count": 16,
   "metadata": {
    "id": "G86h8bfwYSEx"
   },
   "outputs": [],
   "source": [
    "# Reset indices before converting to NumPy array\n",
    "training_labels = y_train.reset_index(drop=True).to_numpy()\n",
    "testing_labels = y_test.reset_index(drop=True).to_numpy()"
   ]
  },
  {
   "cell_type": "code",
   "execution_count": 17,
   "metadata": {
    "colab": {
     "base_uri": "https://localhost:8080/"
    },
    "executionInfo": {
     "elapsed": 596,
     "status": "ok",
     "timestamp": 1684459693697,
     "user": {
      "displayName": "Dr. Uohna June Thiessen",
      "userId": "00333965324192838796"
     },
     "user_tz": 240
    },
    "id": "e2cypoCCnw4Q",
    "outputId": "cabc6b7f-67e5-42e9-bb38-e6f992b5bd0c"
   },
   "outputs": [
    {
     "data": {
      "text/plain": [
       "414094"
      ]
     },
     "execution_count": 17,
     "metadata": {},
     "output_type": "execute_result"
    }
   ],
   "source": [
    "len(training_labels)"
   ]
  },
  {
   "cell_type": "code",
   "execution_count": 18,
   "metadata": {
    "id": "GrAlWBKf99Ya"
   },
   "outputs": [],
   "source": [
    "\n",
    "\n",
    "# ## create tokens for every word in the Summary\n",
    "# tokenizer = Tokenizer(num_words=vocab_size, oov_token=oov_tok)\n",
    "# # use values to get the underlying numpy array of strings\n",
    "# tokenizer.fit_on_texts(X_train['Summary'].values)  \n",
    "# word_index = tokenizer.word_index\n",
    "\n",
    "## create training sequences and pad\n",
    "training_sequences = tokenizer.texts_to_sequences(X_train['Summary'].values)  \n",
    "training_padded = pad_sequences(training_sequences, maxlen=max_length, padding=padding_type, truncating=trunc_type)\n",
    "\n",
    "training_labels = np.array(y_train)\n"
   ]
  },
  {
   "cell_type": "code",
   "execution_count": 19,
   "metadata": {
    "id": "qtXByD4zoEoq"
   },
   "outputs": [],
   "source": [
    "## create training sequences and pad\n",
    "testing_sequences = tokenizer.texts_to_sequences(X_test['Summary'].values)  \n",
    "testing_padded = pad_sequences(testing_sequences, maxlen=max_length, padding=padding_type, truncating=trunc_type)\n",
    "\n",
    "testing_labels = np.array(y_test)"
   ]
  },
  {
   "cell_type": "code",
   "execution_count": 20,
   "metadata": {
    "colab": {
     "base_uri": "https://localhost:8080/"
    },
    "executionInfo": {
     "elapsed": 385,
     "status": "ok",
     "timestamp": 1684459430621,
     "user": {
      "displayName": "Dr. Uohna June Thiessen",
      "userId": "00333965324192838796"
     },
     "user_tz": 240
    },
    "id": "8OudtEdCmvqk",
    "outputId": "c08eafb3-b928-4131-97b3-58d926e97558"
   },
   "outputs": [
    {
     "data": {
      "text/plain": [
       "array([1, 1, 1, 1, 0, 0, 0, 0, 0, 0, 0, 0, 0, 0, 0, 0, 0, 0, 0, 0, 0, 0,\n",
       "       0, 0, 0, 0, 0, 0, 0, 0, 0, 0, 0, 0, 0, 0, 0, 0, 0, 0, 0, 0, 0, 0,\n",
       "       0, 0, 0, 0, 0, 0, 0, 0, 0, 0, 0, 0, 0, 0, 0, 0, 0, 0, 0, 0, 0, 0,\n",
       "       0, 0, 0, 0, 0, 0, 0, 0, 0, 0, 0, 0, 0, 0, 0, 0, 0, 0, 0, 0, 0, 0,\n",
       "       0, 0, 0, 0, 0, 0, 0, 0, 0, 0, 0, 0], dtype=int32)"
      ]
     },
     "execution_count": 20,
     "metadata": {},
     "output_type": "execute_result"
    }
   ],
   "source": [
    "training_padded[0]"
   ]
  },
  {
   "cell_type": "code",
   "execution_count": 21,
   "metadata": {
    "colab": {
     "base_uri": "https://localhost:8080/"
    },
    "executionInfo": {
     "elapsed": 3,
     "status": "ok",
     "timestamp": 1684459725927,
     "user": {
      "displayName": "Dr. Uohna June Thiessen",
      "userId": "00333965324192838796"
     },
     "user_tz": 240
    },
    "id": "MBRReUTdn3yg",
    "outputId": "fe17cd3a-9f79-4eb9-af68-ce821e68d77e"
   },
   "outputs": [
    {
     "data": {
      "text/plain": [
       "(414094, 100)"
      ]
     },
     "execution_count": 21,
     "metadata": {},
     "output_type": "execute_result"
    }
   ],
   "source": [
    "training_padded.shape"
   ]
  },
  {
   "cell_type": "code",
   "execution_count": 22,
   "metadata": {
    "id": "FufaT4vlkiDE"
   },
   "outputs": [],
   "source": [
    "model = tf.keras.Sequential([\n",
    "    tf.keras.layers.Embedding(vocab_size, embedding_dim, input_length=max_length),\n",
    "    tf.keras.layers.GlobalAveragePooling1D(),\n",
    "    tf.keras.layers.Dense(24, activation='relu'),\n",
    "    tf.keras.layers.Dense(1, activation='sigmoid')\n",
    "])\n",
    "model.compile(loss='binary_crossentropy',optimizer='adam',metrics=['FalsePositives'])"
   ]
  },
  {
   "cell_type": "code",
   "execution_count": 23,
   "metadata": {
    "colab": {
     "base_uri": "https://localhost:8080/"
    },
    "executionInfo": {
     "elapsed": 414,
     "status": "ok",
     "timestamp": 1684460560011,
     "user": {
      "displayName": "Dr. Uohna June Thiessen",
      "userId": "00333965324192838796"
     },
     "user_tz": 240
    },
    "id": "XfDt1hmYkiys",
    "outputId": "d7794fc8-914b-475c-e0d5-2762366f130e"
   },
   "outputs": [
    {
     "name": "stdout",
     "output_type": "stream",
     "text": [
      "Model: \"sequential\"\n",
      "_________________________________________________________________\n",
      " Layer (type)                Output Shape              Param #   \n",
      "=================================================================\n",
      " embedding (Embedding)       (None, 100, 16)           160000    \n",
      "                                                                 \n",
      " global_average_pooling1d (  (None, 16)                0         \n",
      " GlobalAveragePooling1D)                                         \n",
      "                                                                 \n",
      " dense (Dense)               (None, 24)                408       \n",
      "                                                                 \n",
      " dense_1 (Dense)             (None, 1)                 25        \n",
      "                                                                 \n",
      "=================================================================\n",
      "Total params: 160433 (626.69 KB)\n",
      "Trainable params: 160433 (626.69 KB)\n",
      "Non-trainable params: 0 (0.00 Byte)\n",
      "_________________________________________________________________\n"
     ]
    }
   ],
   "source": [
    "model.summary()\n"
   ]
  },
  {
   "cell_type": "code",
   "execution_count": 24,
   "metadata": {
    "colab": {
     "base_uri": "https://localhost:8080/"
    },
    "executionInfo": {
     "elapsed": 984418,
     "status": "ok",
     "timestamp": 1684465653565,
     "user": {
      "displayName": "Dr. Uohna June Thiessen",
      "userId": "00333965324192838796"
     },
     "user_tz": 240
    },
    "id": "2DTKQFf1kkyc",
    "outputId": "076ac343-9b8c-459a-bb4a-977293cbd05d"
   },
   "outputs": [
    {
     "name": "stdout",
     "output_type": "stream",
     "text": [
      "Epoch 1/25\n",
      "12941/12941 - 10s - loss: 0.6194 - false_positives: 0.0000e+00 - val_loss: 0.6182 - val_false_positives: 0.0000e+00 - 10s/epoch - 764us/step\n",
      "Epoch 2/25\n",
      "12941/12941 - 10s - loss: 0.6184 - false_positives: 0.0000e+00 - val_loss: 0.6174 - val_false_positives: 0.0000e+00 - 10s/epoch - 778us/step\n",
      "Epoch 3/25\n",
      "12941/12941 - 10s - loss: 0.6181 - false_positives: 0.0000e+00 - val_loss: 0.6182 - val_false_positives: 0.0000e+00 - 10s/epoch - 788us/step\n",
      "Epoch 4/25\n",
      "12941/12941 - 10s - loss: 0.6179 - false_positives: 0.0000e+00 - val_loss: 0.6168 - val_false_positives: 0.0000e+00 - 10s/epoch - 806us/step\n",
      "Epoch 5/25\n",
      "12941/12941 - 10s - loss: 0.6176 - false_positives: 0.0000e+00 - val_loss: 0.6165 - val_false_positives: 0.0000e+00 - 10s/epoch - 808us/step\n",
      "Epoch 6/25\n",
      "12941/12941 - 11s - loss: 0.6172 - false_positives: 0.0000e+00 - val_loss: 0.6161 - val_false_positives: 0.0000e+00 - 11s/epoch - 819us/step\n",
      "Epoch 7/25\n",
      "12941/12941 - 11s - loss: 0.6168 - false_positives: 0.0000e+00 - val_loss: 0.6154 - val_false_positives: 0.0000e+00 - 11s/epoch - 818us/step\n",
      "Epoch 8/25\n",
      "12941/12941 - 11s - loss: 0.6164 - false_positives: 0.0000e+00 - val_loss: 0.6157 - val_false_positives: 0.0000e+00 - 11s/epoch - 827us/step\n",
      "Epoch 9/25\n",
      "12941/12941 - 11s - loss: 0.6163 - false_positives: 0.0000e+00 - val_loss: 0.6163 - val_false_positives: 0.0000e+00 - 11s/epoch - 861us/step\n",
      "Epoch 10/25\n",
      "12941/12941 - 11s - loss: 0.6162 - false_positives: 0.0000e+00 - val_loss: 0.6167 - val_false_positives: 0.0000e+00 - 11s/epoch - 880us/step\n",
      "Epoch 11/25\n",
      "12941/12941 - 11s - loss: 0.6161 - false_positives: 0.0000e+00 - val_loss: 0.6156 - val_false_positives: 0.0000e+00 - 11s/epoch - 867us/step\n",
      "Epoch 12/25\n",
      "12941/12941 - 11s - loss: 0.6161 - false_positives: 0.0000e+00 - val_loss: 0.6172 - val_false_positives: 0.0000e+00 - 11s/epoch - 888us/step\n",
      "Epoch 13/25\n",
      "12941/12941 - 12s - loss: 0.6160 - false_positives: 0.0000e+00 - val_loss: 0.6155 - val_false_positives: 0.0000e+00 - 12s/epoch - 912us/step\n",
      "Epoch 14/25\n",
      "12941/12941 - 11s - loss: 0.6160 - false_positives: 0.0000e+00 - val_loss: 0.6155 - val_false_positives: 0.0000e+00 - 11s/epoch - 853us/step\n",
      "Epoch 15/25\n",
      "12941/12941 - 11s - loss: 0.6161 - false_positives: 0.0000e+00 - val_loss: 0.6153 - val_false_positives: 0.0000e+00 - 11s/epoch - 847us/step\n",
      "Epoch 16/25\n",
      "12941/12941 - 11s - loss: 0.6160 - false_positives: 0.0000e+00 - val_loss: 0.6171 - val_false_positives: 0.0000e+00 - 11s/epoch - 881us/step\n",
      "Epoch 17/25\n",
      "12941/12941 - 10s - loss: 0.6160 - false_positives: 0.0000e+00 - val_loss: 0.6155 - val_false_positives: 0.0000e+00 - 10s/epoch - 802us/step\n",
      "Epoch 18/25\n",
      "12941/12941 - 10s - loss: 0.6159 - false_positives: 0.0000e+00 - val_loss: 0.6153 - val_false_positives: 0.0000e+00 - 10s/epoch - 799us/step\n",
      "Epoch 19/25\n",
      "12941/12941 - 11s - loss: 0.6159 - false_positives: 0.0000e+00 - val_loss: 0.6160 - val_false_positives: 0.0000e+00 - 11s/epoch - 869us/step\n",
      "Epoch 20/25\n",
      "12941/12941 - 11s - loss: 0.6160 - false_positives: 0.0000e+00 - val_loss: 0.6154 - val_false_positives: 0.0000e+00 - 11s/epoch - 872us/step\n",
      "Epoch 21/25\n",
      "12941/12941 - 11s - loss: 0.6159 - false_positives: 0.0000e+00 - val_loss: 0.6153 - val_false_positives: 0.0000e+00 - 11s/epoch - 844us/step\n",
      "Epoch 22/25\n",
      "12941/12941 - 12s - loss: 0.6159 - false_positives: 0.0000e+00 - val_loss: 0.6158 - val_false_positives: 0.0000e+00 - 12s/epoch - 893us/step\n",
      "Epoch 23/25\n",
      "12941/12941 - 11s - loss: 0.6159 - false_positives: 0.0000e+00 - val_loss: 0.6153 - val_false_positives: 0.0000e+00 - 11s/epoch - 886us/step\n",
      "Epoch 24/25\n",
      "12941/12941 - 11s - loss: 0.6159 - false_positives: 0.0000e+00 - val_loss: 0.6153 - val_false_positives: 0.0000e+00 - 11s/epoch - 856us/step\n",
      "Epoch 25/25\n",
      "12941/12941 - 12s - loss: 0.6159 - false_positives: 0.0000e+00 - val_loss: 0.6157 - val_false_positives: 0.0000e+00 - 12s/epoch - 907us/step\n"
     ]
    }
   ],
   "source": [
    "num_epochs = 25\n",
    "history = model.fit(training_padded, training_labels, epochs=num_epochs, validation_data=(testing_padded, testing_labels), verbose=2)"
   ]
  },
  {
   "cell_type": "code",
   "execution_count": 25,
   "metadata": {
    "colab": {
     "base_uri": "https://localhost:8080/",
     "height": 881
    },
    "executionInfo": {
     "elapsed": 590,
     "status": "ok",
     "timestamp": 1684464512232,
     "user": {
      "displayName": "Dr. Uohna June Thiessen",
      "userId": "00333965324192838796"
     },
     "user_tz": 240
    },
    "id": "2HYfBKXjkmU8",
    "outputId": "d83190f9-721f-43ed-8440-13994bbe2ac2"
   },
   "outputs": [
    {
     "data": {
      "image/png": "[encoded data removed]",
      "text/plain": [
       "<Figure size 640x480 with 1 Axes>"
      ]
     },
     "metadata": {},
     "output_type": "display_data"
    },
    {
     "data": {
      "image/png": "[encoded data removed]",
      "text/plain": [
       "<Figure size 640x480 with 1 Axes>"
      ]
     },
     "metadata": {},
     "output_type": "display_data"
    }
   ],
   "source": [
    "import matplotlib.pyplot as plt\n",
    "\n",
    "\n",
    "def plot_graphs(history, string):\n",
    "  plt.plot(history.history[string])\n",
    "  plt.plot(history.history['val_'+string])\n",
    "  plt.xlabel(\"Epochs\")\n",
    "  plt.ylabel(string)\n",
    "  plt.legend([string, 'val_'+string])\n",
    "  plt.show()\n",
    "  \n",
    "plot_graphs(history, \"false_positives\")\n",
    "plot_graphs(history, \"loss\")"
   ]
  },
  {
   "cell_type": "code",
   "execution_count": 27,
   "metadata": {},
   "outputs": [
    {
     "name": "stdout",
     "output_type": "stream",
     "text": [
      "Epoch 1/10\n",
      "12941/12941 - 13s - loss: 0.6158 - false_positives: 0.0000e+00 - val_loss: 0.6156 - val_false_positives: 0.0000e+00 - 13s/epoch - 983us/step\n",
      "Epoch 2/10\n",
      "12941/12941 - 13s - loss: 0.6157 - false_positives: 0.0000e+00 - val_loss: 0.6164 - val_false_positives: 0.0000e+00 - 13s/epoch - 981us/step\n",
      "Epoch 3/10\n",
      "12941/12941 - 13s - loss: 0.6158 - false_positives: 0.0000e+00 - val_loss: 0.6152 - val_false_positives: 0.0000e+00 - 13s/epoch - 1ms/step\n",
      "Epoch 4/10\n",
      "12941/12941 - 13s - loss: 0.6158 - false_positives: 0.0000e+00 - val_loss: 0.6153 - val_false_positives: 0.0000e+00 - 13s/epoch - 1ms/step\n",
      "Epoch 5/10\n",
      "12941/12941 - 13s - loss: 0.6158 - false_positives: 0.0000e+00 - val_loss: 0.6153 - val_false_positives: 0.0000e+00 - 13s/epoch - 1ms/step\n",
      "Epoch 6/10\n",
      "12941/12941 - 13s - loss: 0.6158 - false_positives: 0.0000e+00 - val_loss: 0.6158 - val_false_positives: 0.0000e+00 - 13s/epoch - 988us/step\n",
      "Epoch 7/10\n",
      "12941/12941 - 13s - loss: 0.6158 - false_positives: 0.0000e+00 - val_loss: 0.6152 - val_false_positives: 0.0000e+00 - 13s/epoch - 1ms/step\n",
      "Epoch 8/10\n",
      "12941/12941 - 14s - loss: 0.6158 - false_positives: 0.0000e+00 - val_loss: 0.6154 - val_false_positives: 0.0000e+00 - 14s/epoch - 1ms/step\n",
      "Epoch 9/10\n",
      "12941/12941 - 14s - loss: 0.6158 - false_positives: 0.0000e+00 - val_loss: 0.6154 - val_false_positives: 0.0000e+00 - 14s/epoch - 1ms/step\n",
      "Epoch 10/10\n",
      "12941/12941 - 14s - loss: 0.6157 - false_positives: 0.0000e+00 - val_loss: 0.6156 - val_false_positives: 0.0000e+00 - 14s/epoch - 1ms/step\n",
      "<OOV> <OOV> <OOV> <OOV> <OOV> <OOV> <OOV> <OOV> <OOV> <OOV> <OOV> <OOV> <OOV> <OOV> <OOV> <OOV> <OOV> <OOV> <OOV> <OOV> <OOV> <OOV> <OOV> <OOV> <OOV> <OOV> <OOV> <OOV> <OOV> <OOV> <OOV> <OOV> <OOV> <OOV> <OOV> <OOV> <OOV> <OOV> <OOV> <OOV> <OOV> <OOV> <OOV> <OOV> <OOV> <OOV> <OOV> <OOV> <OOV> <OOV> <OOV> <OOV> <OOV> <OOV> <OOV> <OOV> <OOV> <OOV> <OOV> <OOV> <OOV> <OOV> <OOV> <OOV> <OOV> <OOV> <OOV> <OOV> <OOV> <OOV> <OOV> <OOV> <OOV> <OOV> <OOV> <OOV> <OOV> <OOV> <OOV> <OOV> <OOV> <OOV> <OOV> <OOV> <OOV> <OOV> <OOV> <OOV> <OOV> <OOV> <OOV> <OOV> <OOV> <OOV> <OOV> <OOV> <OOV> <OOV> <OOV> <OOV>\n",
      "<OOV> <OOV> <OOV> <OOV> <OOV> <OOV> <OOV> <OOV> <OOV> <OOV> <OOV> <OOV> <OOV> <OOV> <OOV> <OOV> <OOV> <OOV> <OOV> <OOV> <OOV> <OOV> <OOV> <OOV> <OOV> <OOV> <OOV> <OOV> <OOV> <OOV> <OOV> <OOV> <OOV> <OOV> <OOV> <OOV> <OOV> <OOV> <OOV> <OOV> <OOV> <OOV> <OOV> <OOV> <OOV> <OOV> <OOV> <OOV> <OOV> <OOV> <OOV> <OOV> <OOV> <OOV> <OOV> <OOV> <OOV> <OOV> <OOV> <OOV> <OOV> <OOV> <OOV> <OOV> <OOV> <OOV> <OOV> <OOV> <OOV> <OOV> <OOV> <OOV> <OOV> <OOV> <OOV> <OOV> <OOV> <OOV> <OOV> <OOV> <OOV> <OOV> <OOV> <OOV> <OOV> <OOV> <OOV> <OOV> <OOV> <OOV> <OOV> <OOV> <OOV> <OOV> <OOV> <OOV> <OOV> <OOV> <OOV> <OOV>\n",
      "1\n"
     ]
    }
   ],
   "source": [
    "# Define the reverse_word_index\n",
    "reverse_word_index = {index: word for word, index in tokenizer.word_index.items()}\n",
    "\n",
    "# Train the model\n",
    "num_epochs = 10\n",
    "history = model.fit(\n",
    "    training_padded, y_train,\n",
    "    epochs=num_epochs,\n",
    "    validation_data=(testing_padded, y_test),\n",
    "    verbose=2\n",
    ")\n",
    "\n",
    "# Decoding function for sequences\n",
    "def decode_sequence(sequence):\n",
    "    return ' '.join([reverse_word_index.get(i, '<OOV>') for i in sequence])\n",
    "\n",
    "# Example decoding\n",
    "print(decode_sequence(training_padded[0]))\n",
    "print(decode_sequence(training_padded[2]))\n",
    "print(y_train[2])\n"
   ]
  },
  {
   "cell_type": "code",
   "execution_count": 28,
   "metadata": {
    "id": "c9MqihtEkzQ9"
   },
   "outputs": [
    {
     "name": "stdout",
     "output_type": "stream",
     "text": [
      "(10000, 16)\n"
     ]
    }
   ],
   "source": [
    "e = model.layers[0]\n",
    "weights = e.get_weights()[0]\n",
    "print(weights.shape) # shape: (vocab_size, embedding_dim)\n"
   ]
  },
  {
   "cell_type": "code",
   "execution_count": 29,
   "metadata": {},
   "outputs": [],
   "source": [
    "import io\n",
    "\n",
    "out_v = io.open('vecs.tsv', 'w', encoding='utf-8')\n",
    "out_m = io.open('meta.tsv', 'w', encoding='utf-8')\n",
    "for word_num in range(1, vocab_size):\n",
    "    if word_num in reverse_word_index:\n",
    "        word = reverse_word_index[word_num]\n",
    "        embeddings = weights[word_num]\n",
    "        out_m.write(word + \"\\n\")\n",
    "        out_v.write('\\t'.join([str(x) for x in embeddings]) + \"\\n\")\n",
    "out_v.close()\n",
    "out_m.close()\n"
   ]
  },
  {
   "cell_type": "code",
   "execution_count": 42,
   "metadata": {},
   "outputs": [
    {
     "name": "stdout",
     "output_type": "stream",
     "text": [
      "3491/3491 [==============================] - 1s 256us/step - loss: 0.6156 - false_positives: 0.0000e+00\n",
      "Loss: 0.6156127452850342\n",
      "Accuracy: 1.0\n",
      "1/1 [==============================] - 0s 16ms/step\n",
      "Sentence: I highly recommend this product!\n",
      "Sentiment: Postive\n",
      "\n",
      "Sentence: This is the worst item I've ever purchased.\n",
      "Sentiment: Postive\n",
      "\n"
     ]
    }
   ],
   "source": [
    "# Save the trained model\n",
    "model.save('sentiment_model.h5')\n",
    "\n",
    "# Load the saved model\n",
    "loaded_model = tf.keras.models.load_model('sentiment_model.h5')\n",
    "\n",
    "# Evaluate the loaded model on the testing data\n",
    "loss, false_positives = loaded_model.evaluate(testing_padded, y_test)\n",
    "accuracy = 1 - false_positives  # Calculate accuracy based on false positives\n",
    "\n",
    "print(f\"Loss: {loss}\")\n",
    "print(f\"Accuracy: {accuracy}\")\n",
    "\n",
    "# Predict sentiment for new sentences using the loaded model\n",
    "new_sentences = [\"I highly recommend this product!\", \"This is the worst item I've ever purchased.\"]\n",
    "new_sequences = tokenizer.texts_to_sequences(new_sentences)\n",
    "new_padded_sequences = pad_sequences(new_sequences, maxlen=max_length, padding=padding_type, truncating=trunc_type)\n",
    "\n",
    "new_predictions = loaded_model.predict(new_padded_sequences)\n",
    "\n",
    "for sentence, prediction in zip(new_sentences, new_predictions):\n",
    "    sentiment = \"Postive\" if prediction > 0.5 else \"Negative\"\n",
    "    print(f\"Sentence: {sentence}\\nSentiment: {sentiment}\\n\")\n"
   ]
  },
  {
   "cell_type": "code",
   "execution_count": 34,
   "metadata": {
    "id": "cG8-ArY-qDcz"
   },
   "outputs": [
    {
     "name": "stdout",
     "output_type": "stream",
     "text": [
      "1/1 [==============================] - 0s 9ms/step\n",
      "[[0.53092605]\n",
      " [0.58356035]]\n"
     ]
    }
   ],
   "source": [
    "sentence = [\"granny starting to fear spiders in the garden might be real\", \"game of thrones season finale showing this sunday night\"]\n",
    "sequences = tokenizer.texts_to_sequences(sentence)\n",
    "padded = pad_sequences(sequences, maxlen=max_length, padding=padding_type, truncating=trunc_type)\n",
    "print(model.predict(padded))"
   ]
  },
  {
   "cell_type": "code",
   "execution_count": 35,
   "metadata": {},
   "outputs": [
    {
     "name": "stdout",
     "output_type": "stream",
     "text": [
      "1/1 [==============================] - 0s 8ms/step\n",
      "Sentence: granny starting to fear spiders in the garden might be real\n",
      "Sentiment: Positive\n",
      "\n",
      "Sentence: game of thrones season finale showing this sunday night\n",
      "Sentiment: Positive\n",
      "\n"
     ]
    }
   ],
   "source": [
    "sentence = [\"granny starting to fear spiders in the garden might be real\", \"game of thrones season finale showing this sunday night\"]\n",
    "sequences = tokenizer.texts_to_sequences(sentence)\n",
    "padded = pad_sequences(sequences, maxlen=max_length, padding=padding_type, truncating=trunc_type)\n",
    "predictions = loaded_model.predict(padded)\n",
    "\n",
    "for sent, pred in zip(sentence, predictions):\n",
    "    sentiment = \"Positive\" if pred > 0.5 else \"Negative\"\n",
    "    print(f\"Sentence: {sent}\\nSentiment: {sentiment}\\n\")\n"
   ]
  },
  {
   "cell_type": "code",
   "execution_count": null,
   "metadata": {},
   "outputs": [],
   "source": []
  },
  {
   "cell_type": "code",
   "execution_count": null,
   "metadata": {},
   "outputs": [],
   "source": []
  }
 ],
 "metadata": {
  "accelerator": "GPU",
  "colab": {
   "gpuType": "A100",
   "machine_shape": "hm",
   "provenance": [
    {
     "file_id": "https://github.com/lmoroney/dlaicourse/blob/master/TensorFlow%20In%20Practice/Course%203%20-%20NLP/Course%203%20-%20Week%202%20-%20Lesson%202.ipynb",
     "timestamp": 1684452833699
    }
   ]
  },
  "gpuClass": "standard",
  "kernelspec": {
   "display_name": "Python 3 (ipykernel)",
   "language": "python",
   "name": "python3"
  },
  "language_info": {
   "codemirror_mode": {
    "name": "ipython",
    "version": 3
   },
   "file_extension": ".py",
   "mimetype": "text/x-python",
   "name": "python",
   "nbconvert_exporter": "python",
   "pygments_lexer": "ipython3",
   "version": "3.9.13"
  }
 },
 "nbformat": 4,
 "nbformat_minor": 1
}
