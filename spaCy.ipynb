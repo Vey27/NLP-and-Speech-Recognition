{
  "nbformat": 4,
  "nbformat_minor": 0,
  "metadata": {
    "colab": {
      "provenance": []
    },
    "kernelspec": {
      "name": "python3",
      "display_name": "Python 3"
    },
    "language_info": {
      "name": "python"
    }
  },
  "cells": [
    {
      "cell_type": "markdown",
      "source": [
        "![image.png](data:image/png;base64,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)"
      ],
      "metadata": {
        "id": "bgz89hFUBmAc"
      }
    },
    {
      "cell_type": "code",
      "source": [
        "# Import spacy\n",
        "import spacy\n",
        "\n",
        "# Load a trained model- we are using the model for English\n",
        "nlp = spacy.load(\"en_core_web_sm\")"
      ],
      "metadata": {
        "id": "_Mqg78eM_9Fj"
      },
      "execution_count": 31,
      "outputs": []
    },
    {
      "cell_type": "code",
      "source": [
        "# Pass the text you want to analyze to your model\n",
        "# Pass the text you want to analyze to your model\n",
        "text = \"Jennifer is learning quantitative analysis.\"\n",
        "doc = nlp(text)\n",
        "\n",
        "print(doc)  # Output: Jennifer is learning quantitative analysis."
      ],
      "metadata": {
        "colab": {
          "base_uri": "https://localhost:8080/"
        },
        "id": "KU-IHzfdADQ_",
        "outputId": "0a655857-1cb5-4460-8859-4d9f70c39bc6"
      },
      "execution_count": 32,
      "outputs": [
        {
          "output_type": "stream",
          "name": "stdout",
          "text": [
            "Jennifer is learning quantitative analysis.\n"
          ]
        }
      ]
    },
    {
      "cell_type": "code",
      "source": [
        "from spacy import displacy"
      ],
      "metadata": {
        "id": "AoGJRPI4NCYG"
      },
      "execution_count": 33,
      "outputs": []
    },
    {
      "cell_type": "code",
      "execution_count": 34,
      "metadata": {
        "colab": {
          "base_uri": "https://localhost:8080/",
          "height": 52
        },
        "id": "IEbwzAWB_5Ie",
        "outputId": "409055c5-c869-4d70-b78d-93cfa94113c6"
      },
      "outputs": [
        {
          "output_type": "display_data",
          "data": {
            "text/plain": [
              "<IPython.core.display.HTML object>"
            ],
            "text/html": [
              "<span class=\"tex2jax_ignore\"><div class=\"entities\" style=\"line-height: 2.5; direction: ltr\">\n",
              "<mark class=\"entity\" style=\"background: #aa9cfc; padding: 0.45em 0.6em; margin: 0 0.25em; line-height: 1; border-radius: 0.35em;\">\n",
              "    Jennifer\n",
              "    <span style=\"font-size: 0.8em; font-weight: bold; line-height: 1; border-radius: 0.35em; vertical-align: middle; margin-left: 0.5rem\">PERSON</span>\n",
              "</mark>\n",
              " is learning quantitative analysis.</div></span>"
            ]
          },
          "metadata": {}
        }
      ],
      "source": [
        "## display\n",
        "displacy.render(doc, style=\"ent\",  jupyter=True)"
      ]
    },
    {
      "cell_type": "code",
      "source": [
        "# Let us check the length of both\n",
        "len(text)  # Output: 43"
      ],
      "metadata": {
        "colab": {
          "base_uri": "https://localhost:8080/"
        },
        "id": "5ymw-rslAGDH",
        "outputId": "bb79b772-825a-4ffa-b581-8e5fa157c5fd"
      },
      "execution_count": 35,
      "outputs": [
        {
          "output_type": "execute_result",
          "data": {
            "text/plain": [
              "43"
            ]
          },
          "metadata": {},
          "execution_count": 35
        }
      ]
    },
    {
      "cell_type": "code",
      "source": [
        "len(doc)  # Output: 6"
      ],
      "metadata": {
        "colab": {
          "base_uri": "https://localhost:8080/"
        },
        "id": "_joifXUhOWtU",
        "outputId": "bb069d8f-4b44-4fea-96fe-26c92e4572fc"
      },
      "execution_count": 36,
      "outputs": [
        {
          "output_type": "execute_result",
          "data": {
            "text/plain": [
              "6"
            ]
          },
          "metadata": {},
          "execution_count": 36
        }
      ]
    },
    {
      "cell_type": "code",
      "source": [
        "# Access the text of each token in the processed document\n",
        "for token in doc:\n",
        "    print(token.text)\n"
      ],
      "metadata": {
        "id": "jZ7JeXRgSDb2",
        "outputId": "272b9a28-b362-4e5c-eea3-a03bc90b07c2",
        "colab": {
          "base_uri": "https://localhost:8080/"
        }
      },
      "execution_count": 37,
      "outputs": [
        {
          "output_type": "stream",
          "name": "stdout",
          "text": [
            "Jennifer\n",
            "is\n",
            "learning\n",
            "quantitative\n",
            "analysis\n",
            ".\n"
          ]
        }
      ]
    },
    {
      "cell_type": "code",
      "source": [
        "token.text"
      ],
      "metadata": {
        "colab": {
          "base_uri": "https://localhost:8080/",
          "height": 35
        },
        "id": "FXql5RvjOirx",
        "outputId": "01b9b6f3-9108-4901-bea5-cf19a057707e"
      },
      "execution_count": 38,
      "outputs": [
        {
          "output_type": "execute_result",
          "data": {
            "text/plain": [
              "'.'"
            ],
            "application/vnd.google.colaboratory.intrinsic+json": {
              "type": "string"
            }
          },
          "metadata": {},
          "execution_count": 38
        }
      ]
    },
    {
      "cell_type": "markdown",
      "source": [
        "![image.png](data:image/png;base64,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)"
      ],
      "metadata": {
        "id": "8nJ5h_jCBuUO"
      }
    },
    {
      "cell_type": "code",
      "source": [
        "# Initialize the text you want to analyze\n",
        "text = \"I am going where Jennifer went yesterday.\"\n",
        "# Pass the text to the model to create the doc\n",
        "doc = nlp(text)\n",
        "# Print the lemma for each token\n",
        "for token in doc:\n",
        "    print(token.text, \" - \", token.lemma_)"
      ],
      "metadata": {
        "colab": {
          "base_uri": "https://localhost:8080/"
        },
        "id": "QHhp1rkyAF-B",
        "outputId": "314f8125-d49f-4b4e-daf3-a967ce172b4b"
      },
      "execution_count": 39,
      "outputs": [
        {
          "output_type": "stream",
          "name": "stdout",
          "text": [
            "I  -  I\n",
            "am  -  be\n",
            "going  -  go\n",
            "where  -  where\n",
            "Jennifer  -  Jennifer\n",
            "went  -  go\n",
            "yesterday  -  yesterday\n",
            ".  -  .\n"
          ]
        }
      ]
    },
    {
      "cell_type": "code",
      "source": [
        "# Initialize the text that you want to analyze\n",
        "text = \"Ripple was founded in 2012 by Jed McCaleb and Chris Larsen (co-founder of E-Loan). But the gears were in motion back in 2004, four years before Bitcoin, when a Canadian programmer, Ryan Fugger, developed RipplePay.RipplePay, though not based on blockchain, was a secure payment system for a financial network. In 2012, Jed McCaleb and Chris Larsen started the company OpenCoin, renamed Ripple Labs in 2013.\"\n",
        "# Source: https://blog.quantinsti.com/ripple-xrp/"
      ],
      "metadata": {
        "id": "_JEzswQbAF7K"
      },
      "execution_count": 40,
      "outputs": []
    },
    {
      "cell_type": "code",
      "source": [
        "text"
      ],
      "metadata": {
        "colab": {
          "base_uri": "https://localhost:8080/",
          "height": 69
        },
        "id": "1lf2KcMvP0XQ",
        "outputId": "a1dabe06-7783-4e73-e0f6-8c20af1f2d67"
      },
      "execution_count": 41,
      "outputs": [
        {
          "output_type": "execute_result",
          "data": {
            "text/plain": [
              "'Ripple was founded in 2012 by Jed McCaleb and Chris Larsen (co-founder of E-Loan). But the gears were in motion back in 2004, four years before Bitcoin, when a Canadian programmer, Ryan Fugger, developed RipplePay.RipplePay, though not based on blockchain, was a secure payment system for a financial network. In 2012, Jed McCaleb and Chris Larsen started the company OpenCoin, renamed Ripple Labs in 2013.'"
            ],
            "application/vnd.google.colaboratory.intrinsic+json": {
              "type": "string"
            }
          },
          "metadata": {},
          "execution_count": 41
        }
      ]
    },
    {
      "cell_type": "code",
      "source": [
        "## process the text\n",
        "doc2 = nlp(text)"
      ],
      "metadata": {
        "id": "6DTnzeZXP_vO"
      },
      "execution_count": 42,
      "outputs": []
    },
    {
      "cell_type": "code",
      "source": [
        "for token in doc2:\n",
        "    print(token.text)"
      ],
      "metadata": {
        "id": "eFx1WUKjQhPU",
        "outputId": "9671f93b-9da0-40a9-dc3b-3db269cc6ec0",
        "colab": {
          "base_uri": "https://localhost:8080/"
        }
      },
      "execution_count": 43,
      "outputs": [
        {
          "output_type": "stream",
          "name": "stdout",
          "text": [
            "Ripple\n",
            "was\n",
            "founded\n",
            "in\n",
            "2012\n",
            "by\n",
            "Jed\n",
            "McCaleb\n",
            "and\n",
            "Chris\n",
            "Larsen\n",
            "(\n",
            "co\n",
            "-\n",
            "founder\n",
            "of\n",
            "E\n",
            "-\n",
            "Loan\n",
            ")\n",
            ".\n",
            "But\n",
            "the\n",
            "gears\n",
            "were\n",
            "in\n",
            "motion\n",
            "back\n",
            "in\n",
            "2004\n",
            ",\n",
            "four\n",
            "years\n",
            "before\n",
            "Bitcoin\n",
            ",\n",
            "when\n",
            "a\n",
            "Canadian\n",
            "programmer\n",
            ",\n",
            "Ryan\n",
            "Fugger\n",
            ",\n",
            "developed\n",
            "RipplePay\n",
            ".\n",
            "RipplePay\n",
            ",\n",
            "though\n",
            "not\n",
            "based\n",
            "on\n",
            "blockchain\n",
            ",\n",
            "was\n",
            "a\n",
            "secure\n",
            "payment\n",
            "system\n",
            "for\n",
            "a\n",
            "financial\n",
            "network\n",
            ".\n",
            "In\n",
            "2012\n",
            ",\n",
            "Jed\n",
            "McCaleb\n",
            "and\n",
            "Chris\n",
            "Larsen\n",
            "started\n",
            "the\n",
            "company\n",
            "OpenCoin\n",
            ",\n",
            "renamed\n",
            "Ripple\n",
            "Labs\n",
            "in\n",
            "2013\n",
            ".\n"
          ]
        }
      ]
    },
    {
      "cell_type": "code",
      "source": [
        "doc2"
      ],
      "metadata": {
        "colab": {
          "base_uri": "https://localhost:8080/"
        },
        "id": "G_pLBvCOQKFJ",
        "outputId": "d196fb97-0246-4993-9d75-e98f3e7779b4"
      },
      "execution_count": 44,
      "outputs": [
        {
          "output_type": "execute_result",
          "data": {
            "text/plain": [
              "Ripple was founded in 2012 by Jed McCaleb and Chris Larsen (co-founder of E-Loan). But the gears were in motion back in 2004, four years before Bitcoin, when a Canadian programmer, Ryan Fugger, developed RipplePay.RipplePay, though not based on blockchain, was a secure payment system for a financial network. In 2012, Jed McCaleb and Chris Larsen started the company OpenCoin, renamed Ripple Labs in 2013."
            ]
          },
          "metadata": {},
          "execution_count": 44
        }
      ]
    },
    {
      "cell_type": "code",
      "source": [
        "# Print the lemma for each token\n",
        "for token in doc2:\n",
        "    print(token.text, \" - \", token.lemma_)"
      ],
      "metadata": {
        "id": "pl7HJvtBPkcM",
        "outputId": "3b509cbf-0bea-4d28-d50c-ae199779faa5",
        "colab": {
          "base_uri": "https://localhost:8080/"
        }
      },
      "execution_count": 45,
      "outputs": [
        {
          "output_type": "stream",
          "name": "stdout",
          "text": [
            "Ripple  -  Ripple\n",
            "was  -  be\n",
            "founded  -  found\n",
            "in  -  in\n",
            "2012  -  2012\n",
            "by  -  by\n",
            "Jed  -  Jed\n",
            "McCaleb  -  McCaleb\n",
            "and  -  and\n",
            "Chris  -  Chris\n",
            "Larsen  -  Larsen\n",
            "(  -  (\n",
            "co  -  co\n",
            "-  -  -\n",
            "founder  -  founder\n",
            "of  -  of\n",
            "E  -  E\n",
            "-  -  -\n",
            "Loan  -  Loan\n",
            ")  -  )\n",
            ".  -  .\n",
            "But  -  but\n",
            "the  -  the\n",
            "gears  -  gear\n",
            "were  -  be\n",
            "in  -  in\n",
            "motion  -  motion\n",
            "back  -  back\n",
            "in  -  in\n",
            "2004  -  2004\n",
            ",  -  ,\n",
            "four  -  four\n",
            "years  -  year\n",
            "before  -  before\n",
            "Bitcoin  -  Bitcoin\n",
            ",  -  ,\n",
            "when  -  when\n",
            "a  -  a\n",
            "Canadian  -  canadian\n",
            "programmer  -  programmer\n",
            ",  -  ,\n",
            "Ryan  -  Ryan\n",
            "Fugger  -  Fugger\n",
            ",  -  ,\n",
            "developed  -  develop\n",
            "RipplePay  -  RipplePay\n",
            ".  -  .\n",
            "RipplePay  -  RipplePay\n",
            ",  -  ,\n",
            "though  -  though\n",
            "not  -  not\n",
            "based  -  base\n",
            "on  -  on\n",
            "blockchain  -  blockchain\n",
            ",  -  ,\n",
            "was  -  be\n",
            "a  -  a\n",
            "secure  -  secure\n",
            "payment  -  payment\n",
            "system  -  system\n",
            "for  -  for\n",
            "a  -  a\n",
            "financial  -  financial\n",
            "network  -  network\n",
            ".  -  .\n",
            "In  -  in\n",
            "2012  -  2012\n",
            ",  -  ,\n",
            "Jed  -  Jed\n",
            "McCaleb  -  McCaleb\n",
            "and  -  and\n",
            "Chris  -  Chris\n",
            "Larsen  -  Larsen\n",
            "started  -  start\n",
            "the  -  the\n",
            "company  -  company\n",
            "OpenCoin  -  OpenCoin\n",
            ",  -  ,\n",
            "renamed  -  rename\n",
            "Ripple  -  Ripple\n",
            "Labs  -  Labs\n",
            "in  -  in\n",
            "2013  -  2013\n",
            ".  -  .\n"
          ]
        }
      ]
    },
    {
      "cell_type": "code",
      "source": [
        "token_without_punc = [token for token in doc if not token.is_punct]\n",
        "token_without_punc"
      ],
      "metadata": {
        "colab": {
          "base_uri": "https://localhost:8080/"
        },
        "id": "IHZRw_WAAF4j",
        "outputId": "8af5ca4d-ec5f-46fc-d147-1cb7246d1f9a"
      },
      "execution_count": 46,
      "outputs": [
        {
          "output_type": "execute_result",
          "data": {
            "text/plain": [
              "[I, am, going, where, Jennifer, went, yesterday]"
            ]
          },
          "metadata": {},
          "execution_count": 46
        }
      ]
    },
    {
      "cell_type": "code",
      "source": [
        "# Get the stop words: 1st method\n",
        "all_stopwords = nlp.Defaults.stop_words\n",
        "\n",
        "len(all_stopwords) # Output: 326"
      ],
      "metadata": {
        "colab": {
          "base_uri": "https://localhost:8080/"
        },
        "id": "-VF7TooNAF1u",
        "outputId": "11e462e5-9d74-4ddd-926b-4c9c32a12211"
      },
      "execution_count": 47,
      "outputs": [
        {
          "output_type": "execute_result",
          "data": {
            "text/plain": [
              "326"
            ]
          },
          "metadata": {},
          "execution_count": 47
        }
      ]
    },
    {
      "cell_type": "code",
      "source": [
        "type(all_stopwords)"
      ],
      "metadata": {
        "colab": {
          "base_uri": "https://localhost:8080/"
        },
        "id": "UZtO5I05RWo_",
        "outputId": "ed5d9e21-063d-4553-ae1e-af5979190d6d"
      },
      "execution_count": 48,
      "outputs": [
        {
          "output_type": "execute_result",
          "data": {
            "text/plain": [
              "set"
            ]
          },
          "metadata": {},
          "execution_count": 48
        }
      ]
    },
    {
      "cell_type": "code",
      "source": [
        "# Get the stop words: 2nd method\n",
        "from spacy.lang.en.stop_words import STOP_WORDS\n",
        "\n",
        "len(STOP_WORDS) # Output: 326"
      ],
      "metadata": {
        "colab": {
          "base_uri": "https://localhost:8080/"
        },
        "id": "zifjGVCfAFzF",
        "outputId": "50ee5329-136b-4563-df0b-63d4e8c9a4c8"
      },
      "execution_count": 49,
      "outputs": [
        {
          "output_type": "execute_result",
          "data": {
            "text/plain": [
              "326"
            ]
          },
          "metadata": {},
          "execution_count": 49
        }
      ]
    },
    {
      "cell_type": "code",
      "source": [
        "type(STOP_WORDS)"
      ],
      "metadata": {
        "colab": {
          "base_uri": "https://localhost:8080/"
        },
        "id": "vZHTTK4mRx2q",
        "outputId": "ae322537-6263-45da-cab8-7409f4b07396"
      },
      "execution_count": 50,
      "outputs": [
        {
          "output_type": "execute_result",
          "data": {
            "text/plain": [
              "set"
            ]
          },
          "metadata": {},
          "execution_count": 50
        }
      ]
    },
    {
      "cell_type": "code",
      "source": [
        "# Both are the same\n",
        "all_stopwords is STOP_WORDS"
      ],
      "metadata": {
        "colab": {
          "base_uri": "https://localhost:8080/"
        },
        "id": "4Mkc1vh9AFvz",
        "outputId": "22cd54e0-f1f2-483e-ab97-f2407c43c48a"
      },
      "execution_count": 51,
      "outputs": [
        {
          "output_type": "execute_result",
          "data": {
            "text/plain": [
              "True"
            ]
          },
          "metadata": {},
          "execution_count": 51
        }
      ]
    },
    {
      "cell_type": "code",
      "source": [
        "# Remove the stop words\n",
        "token_without_stop = [\n",
        "    token for token in token_without_punc if not token.is_stop]\n",
        "token_without_stop"
      ],
      "metadata": {
        "colab": {
          "base_uri": "https://localhost:8080/"
        },
        "id": "oJ4ULyfiAoda",
        "outputId": "dc7c61ca-eab3-43aa-b5f2-169e52f97d0a"
      },
      "execution_count": 52,
      "outputs": [
        {
          "output_type": "execute_result",
          "data": {
            "text/plain": [
              "[going, Jennifer, went, yesterday]"
            ]
          },
          "metadata": {},
          "execution_count": 52
        }
      ]
    },
    {
      "cell_type": "code",
      "source": [
        "import pandas as pd\n",
        "\n",
        "token_pos = []\n",
        "for token in token_without_punc:\n",
        "    token_pos.append([token.text, token.lemma_, token.pos_, token.tag_, token.dep_,\n",
        "                      token.shape_, token.is_alpha, token.is_stop])\n",
        "df = pd.DataFrame(token_pos, columns=['Text', 'Lemma', 'POS', 'Tag',\n",
        "                  'Syntactic dependency relation', 'Shape', 'Is Alphabet', 'Is stop word'])\n",
        "df"
      ],
      "metadata": {
        "colab": {
          "base_uri": "https://localhost:8080/",
          "height": 266
        },
        "id": "D-bpNshwAoaj",
        "outputId": "f6b05524-7df9-4efe-afd8-f0c2652d9b54"
      },
      "execution_count": 53,
      "outputs": [
        {
          "output_type": "execute_result",
          "data": {
            "text/plain": [
              "        Text      Lemma    POS  Tag Syntactic dependency relation  Shape  \\\n",
              "0          I          I   PRON  PRP                         nsubj      X   \n",
              "1         am         be    AUX  VBP                           aux     xx   \n",
              "2      going         go   VERB  VBG                          ROOT   xxxx   \n",
              "3      where      where  SCONJ  WRB                        advmod   xxxx   \n",
              "4   Jennifer   Jennifer  PROPN  NNP                         nsubj  Xxxxx   \n",
              "5       went         go   VERB  VBD                         ccomp   xxxx   \n",
              "6  yesterday  yesterday   NOUN   NN                      npadvmod   xxxx   \n",
              "\n",
              "   Is Alphabet  Is stop word  \n",
              "0         True          True  \n",
              "1         True          True  \n",
              "2         True         False  \n",
              "3         True          True  \n",
              "4         True         False  \n",
              "5         True         False  \n",
              "6         True         False  "
            ],
            "text/html": [
              "\n",
              "  <div id=\"df-58c21c21-d643-4fed-963c-876041d7a9f5\">\n",
              "    <div class=\"colab-df-container\">\n",
              "      <div>\n",
              "<style scoped>\n",
              "    .dataframe tbody tr th:only-of-type {\n",
              "        vertical-align: middle;\n",
              "    }\n",
              "\n",
              "    .dataframe tbody tr th {\n",
              "        vertical-align: top;\n",
              "    }\n",
              "\n",
              "    .dataframe thead th {\n",
              "        text-align: right;\n",
              "    }\n",
              "</style>\n",
              "<table border=\"1\" class=\"dataframe\">\n",
              "  <thead>\n",
              "    <tr style=\"text-align: right;\">\n",
              "      <th></th>\n",
              "      <th>Text</th>\n",
              "      <th>Lemma</th>\n",
              "      <th>POS</th>\n",
              "      <th>Tag</th>\n",
              "      <th>Syntactic dependency relation</th>\n",
              "      <th>Shape</th>\n",
              "      <th>Is Alphabet</th>\n",
              "      <th>Is stop word</th>\n",
              "    </tr>\n",
              "  </thead>\n",
              "  <tbody>\n",
              "    <tr>\n",
              "      <th>0</th>\n",
              "      <td>I</td>\n",
              "      <td>I</td>\n",
              "      <td>PRON</td>\n",
              "      <td>PRP</td>\n",
              "      <td>nsubj</td>\n",
              "      <td>X</td>\n",
              "      <td>True</td>\n",
              "      <td>True</td>\n",
              "    </tr>\n",
              "    <tr>\n",
              "      <th>1</th>\n",
              "      <td>am</td>\n",
              "      <td>be</td>\n",
              "      <td>AUX</td>\n",
              "      <td>VBP</td>\n",
              "      <td>aux</td>\n",
              "      <td>xx</td>\n",
              "      <td>True</td>\n",
              "      <td>True</td>\n",
              "    </tr>\n",
              "    <tr>\n",
              "      <th>2</th>\n",
              "      <td>going</td>\n",
              "      <td>go</td>\n",
              "      <td>VERB</td>\n",
              "      <td>VBG</td>\n",
              "      <td>ROOT</td>\n",
              "      <td>xxxx</td>\n",
              "      <td>True</td>\n",
              "      <td>False</td>\n",
              "    </tr>\n",
              "    <tr>\n",
              "      <th>3</th>\n",
              "      <td>where</td>\n",
              "      <td>where</td>\n",
              "      <td>SCONJ</td>\n",
              "      <td>WRB</td>\n",
              "      <td>advmod</td>\n",
              "      <td>xxxx</td>\n",
              "      <td>True</td>\n",
              "      <td>True</td>\n",
              "    </tr>\n",
              "    <tr>\n",
              "      <th>4</th>\n",
              "      <td>Jennifer</td>\n",
              "      <td>Jennifer</td>\n",
              "      <td>PROPN</td>\n",
              "      <td>NNP</td>\n",
              "      <td>nsubj</td>\n",
              "      <td>Xxxxx</td>\n",
              "      <td>True</td>\n",
              "      <td>False</td>\n",
              "    </tr>\n",
              "    <tr>\n",
              "      <th>5</th>\n",
              "      <td>went</td>\n",
              "      <td>go</td>\n",
              "      <td>VERB</td>\n",
              "      <td>VBD</td>\n",
              "      <td>ccomp</td>\n",
              "      <td>xxxx</td>\n",
              "      <td>True</td>\n",
              "      <td>False</td>\n",
              "    </tr>\n",
              "    <tr>\n",
              "      <th>6</th>\n",
              "      <td>yesterday</td>\n",
              "      <td>yesterday</td>\n",
              "      <td>NOUN</td>\n",
              "      <td>NN</td>\n",
              "      <td>npadvmod</td>\n",
              "      <td>xxxx</td>\n",
              "      <td>True</td>\n",
              "      <td>False</td>\n",
              "    </tr>\n",
              "  </tbody>\n",
              "</table>\n",
              "</div>\n",
              "      <button class=\"colab-df-convert\" onclick=\"convertToInteractive('df-58c21c21-d643-4fed-963c-876041d7a9f5')\"\n",
              "              title=\"Convert this dataframe to an interactive table.\"\n",
              "              style=\"display:none;\">\n",
              "        \n",
              "  <svg xmlns=\"http://www.w3.org/2000/svg\" height=\"24px\"viewBox=\"0 0 24 24\"\n",
              "       width=\"24px\">\n",
              "    <path d=\"M0 0h24v24H0V0z\" fill=\"none\"/>\n",
              "    <path d=\"M18.56 5.44l.94 2.06.94-2.06 2.06-.94-2.06-.94-.94-2.06-.94 2.06-2.06.94zm-11 1L8.5 8.5l.94-2.06 2.06-.94-2.06-.94L8.5 2.5l-.94 2.06-2.06.94zm10 10l.94 2.06.94-2.06 2.06-.94-2.06-.94-.94-2.06-.94 2.06-2.06.94z\"/><path d=\"M17.41 7.96l-1.37-1.37c-.4-.4-.92-.59-1.43-.59-.52 0-1.04.2-1.43.59L10.3 9.45l-7.72 7.72c-.78.78-.78 2.05 0 2.83L4 21.41c.39.39.9.59 1.41.59.51 0 1.02-.2 1.41-.59l7.78-7.78 2.81-2.81c.8-.78.8-2.07 0-2.86zM5.41 20L4 18.59l7.72-7.72 1.47 1.35L5.41 20z\"/>\n",
              "  </svg>\n",
              "      </button>\n",
              "      \n",
              "  <style>\n",
              "    .colab-df-container {\n",
              "      display:flex;\n",
              "      flex-wrap:wrap;\n",
              "      gap: 12px;\n",
              "    }\n",
              "\n",
              "    .colab-df-convert {\n",
              "      background-color: #E8F0FE;\n",
              "      border: none;\n",
              "      border-radius: 50%;\n",
              "      cursor: pointer;\n",
              "      display: none;\n",
              "      fill: #1967D2;\n",
              "      height: 32px;\n",
              "      padding: 0 0 0 0;\n",
              "      width: 32px;\n",
              "    }\n",
              "\n",
              "    .colab-df-convert:hover {\n",
              "      background-color: #E2EBFA;\n",
              "      box-shadow: 0px 1px 2px rgba(60, 64, 67, 0.3), 0px 1px 3px 1px rgba(60, 64, 67, 0.15);\n",
              "      fill: #174EA6;\n",
              "    }\n",
              "\n",
              "    [theme=dark] .colab-df-convert {\n",
              "      background-color: #3B4455;\n",
              "      fill: #D2E3FC;\n",
              "    }\n",
              "\n",
              "    [theme=dark] .colab-df-convert:hover {\n",
              "      background-color: #434B5C;\n",
              "      box-shadow: 0px 1px 3px 1px rgba(0, 0, 0, 0.15);\n",
              "      filter: drop-shadow(0px 1px 2px rgba(0, 0, 0, 0.3));\n",
              "      fill: #FFFFFF;\n",
              "    }\n",
              "  </style>\n",
              "\n",
              "      <script>\n",
              "        const buttonEl =\n",
              "          document.querySelector('#df-58c21c21-d643-4fed-963c-876041d7a9f5 button.colab-df-convert');\n",
              "        buttonEl.style.display =\n",
              "          google.colab.kernel.accessAllowed ? 'block' : 'none';\n",
              "\n",
              "        async function convertToInteractive(key) {\n",
              "          const element = document.querySelector('#df-58c21c21-d643-4fed-963c-876041d7a9f5');\n",
              "          const dataTable =\n",
              "            await google.colab.kernel.invokeFunction('convertToInteractive',\n",
              "                                                     [key], {});\n",
              "          if (!dataTable) return;\n",
              "\n",
              "          const docLinkHtml = 'Like what you see? Visit the ' +\n",
              "            '<a target=\"_blank\" href=https://colab.research.google.com/notebooks/data_table.ipynb>data table notebook</a>'\n",
              "            + ' to learn more about interactive tables.';\n",
              "          element.innerHTML = '';\n",
              "          dataTable['output_type'] = 'display_data';\n",
              "          await google.colab.output.renderOutput(dataTable, element);\n",
              "          const docLink = document.createElement('div');\n",
              "          docLink.innerHTML = docLinkHtml;\n",
              "          element.appendChild(docLink);\n",
              "        }\n",
              "      </script>\n",
              "    </div>\n",
              "  </div>\n",
              "  "
            ]
          },
          "metadata": {},
          "execution_count": 53
        }
      ]
    },
    {
      "cell_type": "code",
      "source": [
        "ner = []\n",
        "for ent in doc.ents:\n",
        "    ner.append([ent.text, ent.start_char, ent.end_char, ent.label_])\n",
        "\n",
        "df_ner = pd.DataFrame(\n",
        "    ner, columns=['Text', 'Start character', 'End character', 'Label'])\n",
        "df_ner"
      ],
      "metadata": {
        "id": "VA8B_vDTAoX0",
        "colab": {
          "base_uri": "https://localhost:8080/",
          "height": 111
        },
        "outputId": "d8b1d07f-5069-4853-b214-ae2113973246"
      },
      "execution_count": 54,
      "outputs": [
        {
          "output_type": "execute_result",
          "data": {
            "text/plain": [
              "        Text  Start character  End character   Label\n",
              "0   Jennifer               17             25  PERSON\n",
              "1  yesterday               31             40    DATE"
            ],
            "text/html": [
              "\n",
              "  <div id=\"df-a4b8c794-4247-413e-ac0c-b3895bafd29b\">\n",
              "    <div class=\"colab-df-container\">\n",
              "      <div>\n",
              "<style scoped>\n",
              "    .dataframe tbody tr th:only-of-type {\n",
              "        vertical-align: middle;\n",
              "    }\n",
              "\n",
              "    .dataframe tbody tr th {\n",
              "        vertical-align: top;\n",
              "    }\n",
              "\n",
              "    .dataframe thead th {\n",
              "        text-align: right;\n",
              "    }\n",
              "</style>\n",
              "<table border=\"1\" class=\"dataframe\">\n",
              "  <thead>\n",
              "    <tr style=\"text-align: right;\">\n",
              "      <th></th>\n",
              "      <th>Text</th>\n",
              "      <th>Start character</th>\n",
              "      <th>End character</th>\n",
              "      <th>Label</th>\n",
              "    </tr>\n",
              "  </thead>\n",
              "  <tbody>\n",
              "    <tr>\n",
              "      <th>0</th>\n",
              "      <td>Jennifer</td>\n",
              "      <td>17</td>\n",
              "      <td>25</td>\n",
              "      <td>PERSON</td>\n",
              "    </tr>\n",
              "    <tr>\n",
              "      <th>1</th>\n",
              "      <td>yesterday</td>\n",
              "      <td>31</td>\n",
              "      <td>40</td>\n",
              "      <td>DATE</td>\n",
              "    </tr>\n",
              "  </tbody>\n",
              "</table>\n",
              "</div>\n",
              "      <button class=\"colab-df-convert\" onclick=\"convertToInteractive('df-a4b8c794-4247-413e-ac0c-b3895bafd29b')\"\n",
              "              title=\"Convert this dataframe to an interactive table.\"\n",
              "              style=\"display:none;\">\n",
              "        \n",
              "  <svg xmlns=\"http://www.w3.org/2000/svg\" height=\"24px\"viewBox=\"0 0 24 24\"\n",
              "       width=\"24px\">\n",
              "    <path d=\"M0 0h24v24H0V0z\" fill=\"none\"/>\n",
              "    <path d=\"M18.56 5.44l.94 2.06.94-2.06 2.06-.94-2.06-.94-.94-2.06-.94 2.06-2.06.94zm-11 1L8.5 8.5l.94-2.06 2.06-.94-2.06-.94L8.5 2.5l-.94 2.06-2.06.94zm10 10l.94 2.06.94-2.06 2.06-.94-2.06-.94-.94-2.06-.94 2.06-2.06.94z\"/><path d=\"M17.41 7.96l-1.37-1.37c-.4-.4-.92-.59-1.43-.59-.52 0-1.04.2-1.43.59L10.3 9.45l-7.72 7.72c-.78.78-.78 2.05 0 2.83L4 21.41c.39.39.9.59 1.41.59.51 0 1.02-.2 1.41-.59l7.78-7.78 2.81-2.81c.8-.78.8-2.07 0-2.86zM5.41 20L4 18.59l7.72-7.72 1.47 1.35L5.41 20z\"/>\n",
              "  </svg>\n",
              "      </button>\n",
              "      \n",
              "  <style>\n",
              "    .colab-df-container {\n",
              "      display:flex;\n",
              "      flex-wrap:wrap;\n",
              "      gap: 12px;\n",
              "    }\n",
              "\n",
              "    .colab-df-convert {\n",
              "      background-color: #E8F0FE;\n",
              "      border: none;\n",
              "      border-radius: 50%;\n",
              "      cursor: pointer;\n",
              "      display: none;\n",
              "      fill: #1967D2;\n",
              "      height: 32px;\n",
              "      padding: 0 0 0 0;\n",
              "      width: 32px;\n",
              "    }\n",
              "\n",
              "    .colab-df-convert:hover {\n",
              "      background-color: #E2EBFA;\n",
              "      box-shadow: 0px 1px 2px rgba(60, 64, 67, 0.3), 0px 1px 3px 1px rgba(60, 64, 67, 0.15);\n",
              "      fill: #174EA6;\n",
              "    }\n",
              "\n",
              "    [theme=dark] .colab-df-convert {\n",
              "      background-color: #3B4455;\n",
              "      fill: #D2E3FC;\n",
              "    }\n",
              "\n",
              "    [theme=dark] .colab-df-convert:hover {\n",
              "      background-color: #434B5C;\n",
              "      box-shadow: 0px 1px 3px 1px rgba(0, 0, 0, 0.15);\n",
              "      filter: drop-shadow(0px 1px 2px rgba(0, 0, 0, 0.3));\n",
              "      fill: #FFFFFF;\n",
              "    }\n",
              "  </style>\n",
              "\n",
              "      <script>\n",
              "        const buttonEl =\n",
              "          document.querySelector('#df-a4b8c794-4247-413e-ac0c-b3895bafd29b button.colab-df-convert');\n",
              "        buttonEl.style.display =\n",
              "          google.colab.kernel.accessAllowed ? 'block' : 'none';\n",
              "\n",
              "        async function convertToInteractive(key) {\n",
              "          const element = document.querySelector('#df-a4b8c794-4247-413e-ac0c-b3895bafd29b');\n",
              "          const dataTable =\n",
              "            await google.colab.kernel.invokeFunction('convertToInteractive',\n",
              "                                                     [key], {});\n",
              "          if (!dataTable) return;\n",
              "\n",
              "          const docLinkHtml = 'Like what you see? Visit the ' +\n",
              "            '<a target=\"_blank\" href=https://colab.research.google.com/notebooks/data_table.ipynb>data table notebook</a>'\n",
              "            + ' to learn more about interactive tables.';\n",
              "          element.innerHTML = '';\n",
              "          dataTable['output_type'] = 'display_data';\n",
              "          await google.colab.output.renderOutput(dataTable, element);\n",
              "          const docLink = document.createElement('div');\n",
              "          docLink.innerHTML = docLinkHtml;\n",
              "          element.appendChild(docLink);\n",
              "        }\n",
              "      </script>\n",
              "    </div>\n",
              "  </div>\n",
              "  "
            ]
          },
          "metadata": {},
          "execution_count": 54
        }
      ]
    },
    {
      "cell_type": "code",
      "source": [
        "from spacy import displacy"
      ],
      "metadata": {
        "id": "VMI6VwaAuRE1"
      },
      "execution_count": 55,
      "outputs": []
    },
    {
      "cell_type": "code",
      "source": [
        "\n",
        "displacy.render(doc, style=\"ent\", jupyter=True, options={'distance': 90})"
      ],
      "metadata": {
        "colab": {
          "base_uri": "https://localhost:8080/",
          "height": 52
        },
        "id": "t4yhiqOBAoUp",
        "outputId": "e31fdb35-b99c-47b9-b45f-41b45ffce84b"
      },
      "execution_count": 56,
      "outputs": [
        {
          "output_type": "display_data",
          "data": {
            "text/plain": [
              "<IPython.core.display.HTML object>"
            ],
            "text/html": [
              "<span class=\"tex2jax_ignore\"><div class=\"entities\" style=\"line-height: 2.5; direction: ltr\">I am going where \n",
              "<mark class=\"entity\" style=\"background: #aa9cfc; padding: 0.45em 0.6em; margin: 0 0.25em; line-height: 1; border-radius: 0.35em;\">\n",
              "    Jennifer\n",
              "    <span style=\"font-size: 0.8em; font-weight: bold; line-height: 1; border-radius: 0.35em; vertical-align: middle; margin-left: 0.5rem\">PERSON</span>\n",
              "</mark>\n",
              " went \n",
              "<mark class=\"entity\" style=\"background: #bfe1d9; padding: 0.45em 0.6em; margin: 0 0.25em; line-height: 1; border-radius: 0.35em;\">\n",
              "    yesterday\n",
              "    <span style=\"font-size: 0.8em; font-weight: bold; line-height: 1; border-radius: 0.35em; vertical-align: middle; margin-left: 0.5rem\">DATE</span>\n",
              "</mark>\n",
              ".</div></span>"
            ]
          },
          "metadata": {}
        }
      ]
    },
    {
      "cell_type": "code",
      "source": [
        "# Pass the text you want to analyze to your model\n",
        "doc = nlp(\"Jennifer is learning quantitative analysis.\")\n",
        "\n",
        "# Print the part-of-speech and the syntactic dependency relation for the tokens\n",
        "for token in doc:\n",
        "    print(token.text, token.pos_, token.dep_)"
      ],
      "metadata": {
        "id": "Drzt9Db5AoRy",
        "colab": {
          "base_uri": "https://localhost:8080/"
        },
        "outputId": "d6f1ce30-153d-4b84-fb9a-a3b4a9ac5a08"
      },
      "execution_count": 57,
      "outputs": [
        {
          "output_type": "stream",
          "name": "stdout",
          "text": [
            "Jennifer PROPN nsubj\n",
            "is AUX aux\n",
            "learning VERB ROOT\n",
            "quantitative ADJ amod\n",
            "analysis NOUN dobj\n",
            ". PUNCT punct\n"
          ]
        }
      ]
    },
    {
      "cell_type": "code",
      "source": [
        "from spacy import displacy\n",
        "displacy.render(doc, style=\"dep\", jupyter=True, options={'distance': 90})"
      ],
      "metadata": {
        "colab": {
          "base_uri": "https://localhost:8080/",
          "height": 248
        },
        "id": "8E2SUB-jAyRs",
        "outputId": "2eec44d3-09f2-405f-96e2-6dbccb2256db"
      },
      "execution_count": 58,
      "outputs": [
        {
          "output_type": "display_data",
          "data": {
            "text/plain": [
              "<IPython.core.display.HTML object>"
            ],
            "text/html": [
              "<span class=\"tex2jax_ignore\"><svg xmlns=\"http://www.w3.org/2000/svg\" xmlns:xlink=\"http://www.w3.org/1999/xlink\" xml:lang=\"en\" id=\"57c8f3207618420da5b507967c143701-0\" class=\"displacy\" width=\"500\" height=\"227.0\" direction=\"ltr\" style=\"max-width: none; height: 227.0px; color: #000000; background: #ffffff; font-family: Arial; direction: ltr\">\n",
              "<text class=\"displacy-token\" fill=\"currentColor\" text-anchor=\"middle\" y=\"137.0\">\n",
              "    <tspan class=\"displacy-word\" fill=\"currentColor\" x=\"50\">Jennifer</tspan>\n",
              "    <tspan class=\"displacy-tag\" dy=\"2em\" fill=\"currentColor\" x=\"50\">PROPN</tspan>\n",
              "</text>\n",
              "\n",
              "<text class=\"displacy-token\" fill=\"currentColor\" text-anchor=\"middle\" y=\"137.0\">\n",
              "    <tspan class=\"displacy-word\" fill=\"currentColor\" x=\"140\">is</tspan>\n",
              "    <tspan class=\"displacy-tag\" dy=\"2em\" fill=\"currentColor\" x=\"140\">AUX</tspan>\n",
              "</text>\n",
              "\n",
              "<text class=\"displacy-token\" fill=\"currentColor\" text-anchor=\"middle\" y=\"137.0\">\n",
              "    <tspan class=\"displacy-word\" fill=\"currentColor\" x=\"230\">learning</tspan>\n",
              "    <tspan class=\"displacy-tag\" dy=\"2em\" fill=\"currentColor\" x=\"230\">VERB</tspan>\n",
              "</text>\n",
              "\n",
              "<text class=\"displacy-token\" fill=\"currentColor\" text-anchor=\"middle\" y=\"137.0\">\n",
              "    <tspan class=\"displacy-word\" fill=\"currentColor\" x=\"320\">quantitative</tspan>\n",
              "    <tspan class=\"displacy-tag\" dy=\"2em\" fill=\"currentColor\" x=\"320\">ADJ</tspan>\n",
              "</text>\n",
              "\n",
              "<text class=\"displacy-token\" fill=\"currentColor\" text-anchor=\"middle\" y=\"137.0\">\n",
              "    <tspan class=\"displacy-word\" fill=\"currentColor\" x=\"410\">analysis.</tspan>\n",
              "    <tspan class=\"displacy-tag\" dy=\"2em\" fill=\"currentColor\" x=\"410\">NOUN</tspan>\n",
              "</text>\n",
              "\n",
              "<g class=\"displacy-arrow\">\n",
              "    <path class=\"displacy-arc\" id=\"arrow-57c8f3207618420da5b507967c143701-0-0\" stroke-width=\"2px\" d=\"M70,92.0 C70,2.0 230.0,2.0 230.0,92.0\" fill=\"none\" stroke=\"currentColor\"/>\n",
              "    <text dy=\"1.25em\" style=\"font-size: 0.8em; letter-spacing: 1px\">\n",
              "        <textPath xlink:href=\"#arrow-57c8f3207618420da5b507967c143701-0-0\" class=\"displacy-label\" startOffset=\"50%\" side=\"left\" fill=\"currentColor\" text-anchor=\"middle\">nsubj</textPath>\n",
              "    </text>\n",
              "    <path class=\"displacy-arrowhead\" d=\"M70,94.0 L62,82.0 78,82.0\" fill=\"currentColor\"/>\n",
              "</g>\n",
              "\n",
              "<g class=\"displacy-arrow\">\n",
              "    <path class=\"displacy-arc\" id=\"arrow-57c8f3207618420da5b507967c143701-0-1\" stroke-width=\"2px\" d=\"M160,92.0 C160,47.0 225.0,47.0 225.0,92.0\" fill=\"none\" stroke=\"currentColor\"/>\n",
              "    <text dy=\"1.25em\" style=\"font-size: 0.8em; letter-spacing: 1px\">\n",
              "        <textPath xlink:href=\"#arrow-57c8f3207618420da5b507967c143701-0-1\" class=\"displacy-label\" startOffset=\"50%\" side=\"left\" fill=\"currentColor\" text-anchor=\"middle\">aux</textPath>\n",
              "    </text>\n",
              "    <path class=\"displacy-arrowhead\" d=\"M160,94.0 L152,82.0 168,82.0\" fill=\"currentColor\"/>\n",
              "</g>\n",
              "\n",
              "<g class=\"displacy-arrow\">\n",
              "    <path class=\"displacy-arc\" id=\"arrow-57c8f3207618420da5b507967c143701-0-2\" stroke-width=\"2px\" d=\"M340,92.0 C340,47.0 405.0,47.0 405.0,92.0\" fill=\"none\" stroke=\"currentColor\"/>\n",
              "    <text dy=\"1.25em\" style=\"font-size: 0.8em; letter-spacing: 1px\">\n",
              "        <textPath xlink:href=\"#arrow-57c8f3207618420da5b507967c143701-0-2\" class=\"displacy-label\" startOffset=\"50%\" side=\"left\" fill=\"currentColor\" text-anchor=\"middle\">amod</textPath>\n",
              "    </text>\n",
              "    <path class=\"displacy-arrowhead\" d=\"M340,94.0 L332,82.0 348,82.0\" fill=\"currentColor\"/>\n",
              "</g>\n",
              "\n",
              "<g class=\"displacy-arrow\">\n",
              "    <path class=\"displacy-arc\" id=\"arrow-57c8f3207618420da5b507967c143701-0-3\" stroke-width=\"2px\" d=\"M250,92.0 C250,2.0 410.0,2.0 410.0,92.0\" fill=\"none\" stroke=\"currentColor\"/>\n",
              "    <text dy=\"1.25em\" style=\"font-size: 0.8em; letter-spacing: 1px\">\n",
              "        <textPath xlink:href=\"#arrow-57c8f3207618420da5b507967c143701-0-3\" class=\"displacy-label\" startOffset=\"50%\" side=\"left\" fill=\"currentColor\" text-anchor=\"middle\">dobj</textPath>\n",
              "    </text>\n",
              "    <path class=\"displacy-arrowhead\" d=\"M410.0,94.0 L418.0,82.0 402.0,82.0\" fill=\"currentColor\"/>\n",
              "</g>\n",
              "</svg></span>"
            ]
          },
          "metadata": {}
        }
      ]
    }
  ]
}